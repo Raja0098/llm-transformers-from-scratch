{
  "nbformat": 4,
  "nbformat_minor": 0,
  "metadata": {
    "colab": {
      "provenance": []
    },
    "kernelspec": {
      "name": "python3",
      "display_name": "Python 3"
    },
    "language_info": {
      "name": "python"
    }
  },
  "cells": [
    {
      "cell_type": "markdown",
      "source": [
        "* The objective of this assignments is to build the **Decoder** part of the Transformer architecture.\n",
        "* We will be using the **PyTorch** framework to implement the following components\n",
        "  * Decoder Layer that contains\n",
        "    * Multi-Head Masked Attention (MHMA) Module\n",
        "    * Multi-Head Cross Attention (MHMA) Module\n",
        "    * Position-wise Feed Forward Neural Network\n",
        "\n",
        "  * Implement CLM\n",
        "\n",
        "* **DO NOT** USE Built-in **TRANSFORMER LAYERS** as it affects the reproducibility.\n",
        "\n",
        "* You will be given with a configuration file that contains information on various hyperparameters such as embedding dimension, vocabulary size,number heads and so on\n",
        "\n",
        "* Use ReLU activation function and Stochastic Gradient Descent optimizer\n",
        "* Here are a list of helpful Pytorch functions (does not mean you have to use all of them) for this subsequent assignments\n",
        "  * [torch.matmul](https://pytorch.org/docs/stable/generated/torch.matmul.html#torch-matmul)\n",
        "  * [torch.bmm](https://pytorch.org/docs/stable/generated/torch.bmm.html)\n",
        "  * torch.swapdims\n",
        "  * torch.unsqueeze\n",
        "  * torch.squeeze\n",
        "  * torch.argmax\n",
        "  * [torch.Tensor.view](https://pytorch.org/docs/stable/generated/torch.Tensor.view.html)\n",
        "  * [torch.nn.Embedding](https://pytorch.org/docs/stable/generated/torch.nn.Embedding.html)\n",
        "  * [torch.nn.Parameter](https://pytorch.org/docs/stable/generated/torch.nn.parameter.Parameter.html)\n",
        "  * torch.nn.Linear\n",
        "  * torch.nn.LayerNorm\n",
        "  * torch.nn.ModuleList\n",
        "  * torch.nn.Sequential\n",
        "  * [torch.nn.CrossEntropyLoss](https://pytorch.org/docs/stable/generated/torch.nn.CrossEntropyLoss.html)\n",
        "  \n",
        "* Important: Do not set any global seeds.\n",
        "\n",
        "* Helpful resources to get started with\n",
        "\n",
        " * [Andrej Karpathys Nano GPT](https://github.com/karpathy/nanoGPT)\n",
        " * [PyTorch Source code of Transformer Layer](https://pytorch.org/docs/stable/generated/torch.nn.Transformer.html)\n",
        "\n"
      ],
      "metadata": {
        "id": "SLKgMhMp8wvg"
      }
    },
    {
      "cell_type": "code",
      "execution_count": 1,
      "metadata": {
        "id": "es7WIeXF3nrV"
      },
      "outputs": [],
      "source": [
        "import torch\n",
        "from torch import Tensor\n",
        "\n",
        "import torch.nn as nn\n",
        "from torch.nn import Parameter\n",
        "import torch.nn.functional as F\n",
        "from torch.nn.functional import one_hot\n",
        "\n",
        "import torch.optim as optim\n",
        "\n",
        "from  pprint import pprint\n",
        "from yaml import safe_load\n",
        "import copy\n",
        "import requests\n",
        "from io import BytesIO\n",
        "\n",
        "import matplotlib.pyplot as plt"
      ]
    },
    {
      "cell_type": "code",
      "source": [
        "#do not edit this cell\n",
        "config_url = \"https://raw.githubusercontent.com/Arunprakash-A/LLM-from-scratch-PyTorch/main/config_files/dec_config.yml\"\n",
        "response = requests.get(config_url)\n",
        "config = response.content.decode(\"utf-8\")\n",
        "config = safe_load(config)\n",
        "pprint(config)"
      ],
      "metadata": {
        "id": "de2_k13-3_gS",
        "outputId": "1ff8925c-770f-4d66-d48a-8db4163f8425",
        "colab": {
          "base_uri": "https://localhost:8080/"
        }
      },
      "execution_count": 2,
      "outputs": [
        {
          "output_type": "stream",
          "name": "stdout",
          "text": [
            "{'input': {'batch_size': 10, 'embed_dim': 32, 'seq_len': 8, 'vocab_size': 12},\n",
            " 'model': {'d_ff': 128,\n",
            "           'd_model': 32,\n",
            "           'dk': 4,\n",
            "           'dq': 4,\n",
            "           'dv': 4,\n",
            "           'n_heads': 8,\n",
            "           'n_layers': 6}}\n"
          ]
        }
      ]
    },
    {
      "cell_type": "code",
      "source": [
        "vocab_size = config['input']['vocab_size']\n",
        "batch_size = config['input']['batch_size']\n",
        "seq_len = config['input']['seq_len']\n",
        "embed_dim = config['input']['embed_dim']\n",
        "dmodel = embed_dim\n",
        "dq = torch.tensor(config['model']['dq'])\n",
        "dk = torch.tensor(config['model']['dk'])\n",
        "dv = torch.tensor(config['model']['dv'])\n",
        "heads = torch.tensor(config['model']['n_heads'])\n",
        "d_ff = config['model']['d_ff']"
      ],
      "metadata": {
        "id": "kS7dciwb53M1"
      },
      "execution_count": 3,
      "outputs": []
    },
    {
      "cell_type": "markdown",
      "source": [
        "# Input tokens"
      ],
      "metadata": {
        "id": "6uLkQpFA5-Gs"
      }
    },
    {
      "cell_type": "markdown",
      "source": [
        "* Generate a raw_input ids (without any special tokens appended to it)\n",
        "\n",
        "* Since we will be using this as label after adding the special  \\<start\\> token, we use the variable name \"label_ids\"\n",
        "\n",
        "* Keep the size of the `label_ids=(bs,seq_len-1)` as we insert a special token ids in the next step"
      ],
      "metadata": {
        "id": "PfUUsznGp9Ll"
      }
    },
    {
      "cell_type": "code",
      "source": [
        "# do not edit this cell\n",
        "data_url = 'https://github.com/Arunprakash-A/LLM-from-scratch-PyTorch/raw/main/config_files/w2_input_tokens'\n",
        "r = requests.get(data_url)\n",
        "label_ids = torch.load(BytesIO(r.content),weights_only=True)\n",
        "print(label_ids, label_ids.size())"
      ],
      "metadata": {
        "id": "I_D8hvdH5_1E",
        "colab": {
          "base_uri": "https://localhost:8080/"
        },
        "outputId": "a6067676-d58f-42f8-f1d4-38148ca473f3"
      },
      "execution_count": 4,
      "outputs": [
        {
          "output_type": "stream",
          "name": "stdout",
          "text": [
            "tensor([[ 7,  8,  7,  7,  9,  2,  6],\n",
            "        [10,  1, 10,  5,  3,  6,  8],\n",
            "        [ 3,  4,  8,  2, 10, 10, 10],\n",
            "        [ 4, 10,  1,  3,  4,  9,  7],\n",
            "        [ 8,  4,  7,  3,  8, 10,  5],\n",
            "        [ 9,  1,  8,  5,  9,  9, 10],\n",
            "        [ 7,  3,  8,  2,  5,  1,  5],\n",
            "        [ 3,  3,  2,  1,  4,  1,  1],\n",
            "        [10,  9,  9,  9,  6,  9,  2],\n",
            "        [ 3,  6,  6,  3,  5,  4,  5]]) torch.Size([10, 7])\n"
          ]
        }
      ]
    },
    {
      "cell_type": "markdown",
      "source": [
        "* Let the first token_id be be a special `[start]` token (mapped to integer 0)\n",
        "* If label_ids=$\\begin{bmatrix}1&2\\\\3&4 \\end{bmatrix}$, then we modify it as $\\begin{bmatrix}0&1&2\\\\0&3&4 \\end{bmatrix}$"
      ],
      "metadata": {
        "id": "nxmtUf5j6JJ9"
      }
    },
    {
      "cell_type": "code",
      "source": [
        "#token_ids = None # the first column of token_ids should be zeros and the rest of the columns come from label_ids\n",
        "\n",
        "# Insert a special [start] token (ID = 0) at the beginning of label_ids\n",
        "start_token = torch.zeros(label_ids.shape[0], 1, dtype=torch.long)\n",
        "token_ids = torch.cat((start_token, label_ids), dim=1)\n",
        "\n",
        "print(token_ids, token_ids.size())"
      ],
      "metadata": {
        "id": "ADbTWVVC6fu-",
        "colab": {
          "base_uri": "https://localhost:8080/"
        },
        "outputId": "0320e20a-3133-4269-b89a-17db1184c5b6"
      },
      "execution_count": 5,
      "outputs": [
        {
          "output_type": "stream",
          "name": "stdout",
          "text": [
            "tensor([[ 0,  7,  8,  7,  7,  9,  2,  6],\n",
            "        [ 0, 10,  1, 10,  5,  3,  6,  8],\n",
            "        [ 0,  3,  4,  8,  2, 10, 10, 10],\n",
            "        [ 0,  4, 10,  1,  3,  4,  9,  7],\n",
            "        [ 0,  8,  4,  7,  3,  8, 10,  5],\n",
            "        [ 0,  9,  1,  8,  5,  9,  9, 10],\n",
            "        [ 0,  7,  3,  8,  2,  5,  1,  5],\n",
            "        [ 0,  3,  3,  2,  1,  4,  1,  1],\n",
            "        [ 0, 10,  9,  9,  9,  6,  9,  2],\n",
            "        [ 0,  3,  6,  6,  3,  5,  4,  5]]) torch.Size([10, 8])\n"
          ]
        }
      ]
    },
    {
      "cell_type": "markdown",
      "source": [
        "# Implement the following components of a decoder layer\n",
        "\n",
        " * Multi-head Masked Attention (MHMA)\n",
        " * Multi-head Cross Attention (MHCA)\n",
        " * Postion-wise FFN\n",
        "\n",
        "* Randomly initialize the parameters using normal distribution with the following seed values\n",
        "  * $W_Q:$(seed=43)\n",
        "  * $W_K:$(seed=44)\n",
        "  * $W_V:$(seed=45)\n",
        "  * $W_O:$(seed=46)\n",
        "\n",
        "* Remember that, Multi-head cross atention takes two represnetation. One is the encoder output and the other one is the output from masked attetnion sub-layer.\n",
        "\n",
        "* However, in this assignment, we will fix it to a random matrix."
      ],
      "metadata": {
        "id": "k8dvK-TdNNlH"
      }
    },
    {
      "cell_type": "markdown",
      "source": [
        "MHMA\n",
        "\n",
        "* By default, `mask=None`. Therefore, create and apply the mask while computing the attention scores\n"
      ],
      "metadata": {
        "id": "87ZSIzbANWPv"
      }
    },
    {
      "cell_type": "code",
      "source": [
        "class MHMA(nn.Module):\n",
        "    def __init__(self, dmodel, dq, dk, dv, heads, mask=None):\n",
        "        super(MHMA, self).__init__()\n",
        "\n",
        "        self.dmodel = dmodel\n",
        "        self.dq = dq\n",
        "        self.dk = dk\n",
        "        self.dv = dv\n",
        "        self.heads = heads\n",
        "\n",
        "        # Initialize weights for Q, K, V, and output using random seeds\n",
        "        torch.manual_seed(43)\n",
        "        self.WQ = nn.Parameter(torch.randn(dq * heads, dmodel))\n",
        "\n",
        "        torch.manual_seed(44)\n",
        "        self.WK = nn.Parameter(torch.randn(dk * heads, dmodel))\n",
        "\n",
        "        torch.manual_seed(45)\n",
        "        self.WV = nn.Parameter(torch.randn(dv * heads, dmodel))\n",
        "\n",
        "        torch.manual_seed(46)\n",
        "        self.WO = nn.Parameter(torch.randn(dmodel, dv * heads))\n",
        "\n",
        "        self.mask = mask\n",
        "\n",
        "    def forward(self, x):\n",
        "        # Linear transformations for Q, K, V\n",
        "        Q = torch.matmul(x, self.WQ.T)  # (batch_size, seq_len, dq * heads)\n",
        "        K = torch.matmul(x, self.WK.T)  # (batch_size, seq_len, dk * heads)\n",
        "        V = torch.matmul(x, self.WV.T)  # (batch_size, seq_len, dv * heads)\n",
        "\n",
        "        # Reshape Q, K, V for multi-head computation\n",
        "        batch_size = Q.shape[0]\n",
        "        seq_len = Q.shape[1]\n",
        "\n",
        "        Q = Q.view(batch_size, seq_len, self.heads, self.dq).transpose(1, 2)  # (batch_size, heads, seq_len, dq)\n",
        "        K = K.view(batch_size, seq_len, self.heads, self.dk).transpose(1, 2)  # (batch_size, heads, seq_len, dk)\n",
        "        V = V.view(batch_size, seq_len, self.heads, self.dv).transpose(1, 2)  # (batch_size, heads, seq_len, dv)\n",
        "\n",
        "        # Scaled dot-product attention\n",
        "        dk = torch.tensor(self.dk, dtype=torch.float32)\n",
        "        scores = torch.matmul(Q, K.transpose(-2, -1)) / torch.sqrt(dk)  # (batch_size, heads, seq_len, seq_len)\n",
        "\n",
        "        # Apply mask (if mask not provided)\n",
        "        if self.mask is None:\n",
        "            self.mask = torch.triu(torch.ones((seq_len, seq_len)), diagonal=1).to(scores.device)\n",
        "            self.mask = self.mask == 1  # Convert to boolean mask\n",
        "\n",
        "        scores = scores.masked_fill(self.mask.unsqueeze(0).unsqueeze(0), float('-inf'))\n",
        "        #print(scores) for debugging\n",
        "        # Apply softmax to obtain attention weights\n",
        "        attn_weights = F.softmax(scores, dim=-1)  # (batch_size, heads, seq_len, seq_len)\n",
        "\n",
        "        # Compute output\n",
        "        out = torch.matmul(attn_weights, V)  # (batch_size, heads, seq_len, dv)\n",
        "\n",
        "        # Concatenate heads\n",
        "        out = out.transpose(1, 2).contiguous().view(batch_size, seq_len, self.heads * self.dv)\n",
        "\n",
        "        # Final linear transformation\n",
        "        out = torch.matmul(out, self.WO.T)  # (batch_size, seq_len, dmodel)\n",
        "        # print(\"Size of output from Mask Attention layer is\\n\", out.size())for debugging\n",
        "        return out"
      ],
      "metadata": {
        "id": "uL8NHmHFLUZH"
      },
      "execution_count": 6,
      "outputs": []
    },
    {
      "cell_type": "markdown",
      "source": [
        "MHCA"
      ],
      "metadata": {
        "id": "nrDQbLIF334F"
      }
    },
    {
      "cell_type": "code",
      "source": [
        "class MHCA(nn.Module):\n",
        "    def __init__(self, dmodel, dq, dk, dv, heads):\n",
        "        super(MHCA, self).__init__()\n",
        "\n",
        "        self.dmodel = dmodel\n",
        "        self.dq = dq\n",
        "        self.dk = dk\n",
        "        self.dv = dv\n",
        "        self.heads = heads\n",
        "\n",
        "        # Initialize weights for Q, K, V, and output using the specified seeds\n",
        "        torch.manual_seed(43)\n",
        "        self.WQ = nn.Parameter(torch.randn(dq * heads, dmodel))\n",
        "\n",
        "        torch.manual_seed(44)\n",
        "        self.WK = nn.Parameter(torch.randn(dk * heads, dmodel))\n",
        "\n",
        "        torch.manual_seed(45)\n",
        "        self.WV = nn.Parameter(torch.randn(dv * heads, dmodel))\n",
        "\n",
        "        torch.manual_seed(46)\n",
        "        self.WO = nn.Parameter(torch.randn(dmodel, dv * heads))\n",
        "\n",
        "    def forward(self, query, key, value):\n",
        "        # Query is the output from the masked attention sub-layer\n",
        "        # Key and Value come from the encoder output (which is fixed to a random matrix here)\n",
        "\n",
        "        # Linear transformations for Q, K, V\n",
        "        Q = torch.matmul(query, self.WQ.T)  # (batch_size, seq_len, dq * heads)\n",
        "        K = torch.matmul(key, self.WK.T)    # (batch_size, seq_len, dk * heads)\n",
        "        V = torch.matmul(value, self.WV.T)  # (batch_size, seq_len, dv * heads)\n",
        "\n",
        "        # Reshape Q, K, V for multi-head computation\n",
        "        batch_size = Q.shape[0]\n",
        "        seq_len = Q.shape[1]\n",
        "\n",
        "        Q = Q.view(batch_size, seq_len, self.heads, self.dq).transpose(1, 2)  # (batch_size, heads, seq_len, dq)\n",
        "        K = K.view(batch_size, seq_len, self.heads, self.dk).transpose(1, 2)  # (batch_size, heads, seq_len, dk)\n",
        "        V = V.view(batch_size, seq_len, self.heads, self.dv).transpose(1, 2)  # (batch_size, heads, seq_len, dv)\n",
        "\n",
        "        # Scaled dot-product attention\n",
        "        dk = torch.tensor(self.dk, dtype=torch.float32)\n",
        "        scores = torch.matmul(Q, K.transpose(-2, -1)) / torch.sqrt(dk)  # (batch_size, heads, seq_len, seq_len)\n",
        "        attn_weights = F.softmax(scores, dim=-1)\n",
        "\n",
        "        # Compute output\n",
        "        out = torch.matmul(attn_weights, V)  # (batch_size, heads, seq_len, dv)\n",
        "\n",
        "        # Concatenate heads\n",
        "        out = out.transpose(1, 2).contiguous().view(batch_size, seq_len, self.heads * self.dv)\n",
        "\n",
        "        # Final linear transformation\n",
        "        out = torch.matmul(out, self.WO.T)  # (batch_size, seq_len, dmodel)\n",
        "        #print(\"Size of output from Cross Attention layer is\\n\", out.size())for debugging\n",
        "        return out\n"
      ],
      "metadata": {
        "id": "2URLKYHT8i1x"
      },
      "execution_count": 7,
      "outputs": []
    },
    {
      "cell_type": "markdown",
      "source": [
        "* Implement the FFN and OutputLayer modules (same as the one you implemented for encoder)"
      ],
      "metadata": {
        "id": "HkWY1xuzbV1Z"
      }
    },
    {
      "cell_type": "code",
      "source": [
        "class FFN(nn.Module):\n",
        "    def __init__(self, dmodel, d_ff):\n",
        "        super(FFN, self).__init__()\n",
        "\n",
        "        # First linear layer maps dmodel -> d_ff\n",
        "        self.linear1 = nn.Linear(dmodel, d_ff)\n",
        "\n",
        "        # Second linear layer maps d_ff -> dmodel\n",
        "        self.linear2 = nn.Linear(d_ff, dmodel)\n",
        "\n",
        "    def forward(self, x):\n",
        "        # First linear layer followed by ReLU activation\n",
        "        x = F.relu(self.linear1(x))\n",
        "\n",
        "        # Second linear layer\n",
        "        out = self.linear2(x)\n",
        "        #print(\"Size of output from FFN layer is\\n\", out.size())for debugging\n",
        "        return out"
      ],
      "metadata": {
        "id": "WriFqQWHAGZm"
      },
      "execution_count": 8,
      "outputs": []
    },
    {
      "cell_type": "code",
      "source": [
        "class OutputLayer(nn.Module):\n",
        "    def __init__(self, dmodel, vocab_size):\n",
        "        super(OutputLayer, self).__init__()\n",
        "\n",
        "        # Linear layer mapping dmodel -> vocab_size to predict token IDs\n",
        "        self.linear = nn.Linear(dmodel, vocab_size)\n",
        "\n",
        "    def forward(self, x):\n",
        "        # Apply linear layer to project to vocab size\n",
        "        out = self.linear(x)\n",
        "        #print(\"Size of output from Output layer is\\n\", out.size())for debugging\n",
        "        return out"
      ],
      "metadata": {
        "id": "sZ8mE5xQbzh2"
      },
      "execution_count": 9,
      "outputs": []
    },
    {
      "cell_type": "markdown",
      "source": [
        "* Implement the final decoder layer."
      ],
      "metadata": {
        "id": "htg7Hx-Kb1_h"
      }
    },
    {
      "cell_type": "code",
      "source": [
        "class DecoderLayer(nn.Module):\n",
        "    def __init__(self, dmodel, dq, dk, dv, d_ff, heads, mask=None):\n",
        "        super(DecoderLayer, self).__init__()\n",
        "        # Multi-head Masked Attention sub-layer\n",
        "        self.mhma = MHMA(dmodel, dq, dk, dv, heads, mask=mask)\n",
        "        # Multi-head Cross Attention sub-layer\n",
        "        self.mhca = MHCA(dmodel, dq, dk, dv, heads)\n",
        "        # Position-wise Feed Forward Network\n",
        "        self.ffn = FFN(dmodel, d_ff)\n",
        "\n",
        "        # Layer normalization for each sub-layer\n",
        "        self.layer_norm_mhma = nn.LayerNorm(dmodel)\n",
        "        self.layer_norm_mhca = nn.LayerNorm(dmodel)\n",
        "        self.layer_norm_ffn = nn.LayerNorm(dmodel)\n",
        "\n",
        "    def forward(self, x, encoder_output):\n",
        "        # Multi-head Masked Self-Attention with residual connection and layer normalization\n",
        "        mhma_output = self.mhma(x)\n",
        "        x = self.layer_norm_mhma(x + mhma_output)\n",
        "\n",
        "        # Multi-head Cross Attention with residual connection and layer normalization\n",
        "        mhca_output = self.mhca(x, encoder_output, encoder_output)\n",
        "        x = self.layer_norm_mhca(x + mhca_output)\n",
        "\n",
        "        # Feed Forward Network with residual connection and layer normalization\n",
        "        ffn_output = self.ffn(x)\n",
        "        out = self.layer_norm_ffn(x + ffn_output)\n",
        "        #print(\"Size of output from the Decoder layer is\\n\", out.size())for debugging\n",
        "        return out\n"
      ],
      "metadata": {
        "id": "y3KrOhIj_1YF"
      },
      "execution_count": 10,
      "outputs": []
    },
    {
      "cell_type": "markdown",
      "source": [
        "* Create an embedding layer that takes in token_ids and return embeddings for the token_ids\n",
        "\n",
        " * Use seed value: 70"
      ],
      "metadata": {
        "id": "0on1cUNEcEt5"
      }
    },
    {
      "cell_type": "code",
      "source": [
        "class Embed(nn.Module):\n",
        "    def __init__(self, vocab_size, embed_dim):\n",
        "        super(Embed, self).__init__()\n",
        "\n",
        "        # Set the random seed for reproducibility\n",
        "        torch.manual_seed(70)\n",
        "\n",
        "        # Initialize the embedding layer\n",
        "        self.embed = nn.Embedding(vocab_size, embed_dim)\n",
        "\n",
        "    def forward(self, x):\n",
        "        # Lookup the embeddings for the token_ids\n",
        "        out = self.embed(x)\n",
        "        #print(\"Size of output from Embedding layer is\\n\", out.size())for debugging\n",
        "        return out\n"
      ],
      "metadata": {
        "id": "0a--wC-_Tf_W"
      },
      "execution_count": 11,
      "outputs": []
    },
    {
      "cell_type": "markdown",
      "source": [
        "# Decoder\n",
        "\n",
        " * Implement the decoder that has `num_layers` decoder layers"
      ],
      "metadata": {
        "id": "Xr3nTQP5d2zl"
      }
    },
    {
      "cell_type": "code",
      "source": [
        "class Decoder(nn.Module):\n",
        "    def __init__(self, vocab_size, dmodel, dq, dk, dv, d_ff, heads, mask=None, num_layers=1):\n",
        "        super(Decoder, self).__init__()\n",
        "\n",
        "        # Embedding layer for the target token IDs\n",
        "        self.embed_lookup = Embed(vocab_size, dmodel)\n",
        "\n",
        "        decoder_layer = DecoderLayer(dmodel, dq, dk, dv, d_ff, heads, mask)\n",
        "\n",
        "        # Stack of decoder layers\n",
        "        self.dec_layers = nn.ModuleList([copy.deepcopy(decoder_layer) for _ in range(num_layers)])\n",
        "\n",
        "        # Output layer to project the decoder output to the vocabulary size\n",
        "        self.output_layer = OutputLayer(dmodel, vocab_size)\n",
        "\n",
        "    def forward(self, enc_rep, tar_token_ids):\n",
        "        # Get embeddings for the target token IDs\n",
        "        x = self.embed_lookup(tar_token_ids)\n",
        "\n",
        "        # Pass through each decoder layer\n",
        "        for dec_layer in self.dec_layers:\n",
        "            x = dec_layer(x, enc_rep)\n",
        "\n",
        "        # Final output layer to get the logits for the vocabulary\n",
        "        out = self.output_layer(x)\n",
        "        #print(\"Size of the final output from DECODER is\\n\", out.size())for debugging\n",
        "        return out"
      ],
      "metadata": {
        "id": "SYRrxMkpBzAe"
      },
      "execution_count": 12,
      "outputs": []
    },
    {
      "cell_type": "markdown",
      "source": [
        "* Representation from encoder\n",
        "\n",
        " * Since all the decoder layers require the representation from the encoder to compute cross attention, we are going to feed in the random values (Note, it does not require gradient during training)"
      ],
      "metadata": {
        "id": "lyZYR7NkCYh_"
      }
    },
    {
      "cell_type": "code",
      "source": [
        "# do not edit this\n",
        "enc_rep = torch.randn(size=(batch_size,seq_len,embed_dim),generator=torch.random.manual_seed(10))\n",
        "print(enc_rep.size())"
      ],
      "metadata": {
        "id": "-rOysYMjB-af",
        "colab": {
          "base_uri": "https://localhost:8080/"
        },
        "outputId": "ca881b50-c43c-4e4a-bdd1-83860838328c"
      },
      "execution_count": 13,
      "outputs": [
        {
          "output_type": "stream",
          "name": "stdout",
          "text": [
            "torch.Size([10, 8, 32])\n"
          ]
        }
      ]
    },
    {
      "cell_type": "markdown",
      "source": [
        "# Instantiate the model"
      ],
      "metadata": {
        "id": "tpLKJVXnGbbf"
      }
    },
    {
      "cell_type": "code",
      "source": [
        "model = Decoder(vocab_size,dmodel,dq,dk,dv,d_ff,heads,mask=None)"
      ],
      "metadata": {
        "id": "aeG9CjI_GcsP"
      },
      "execution_count": 14,
      "outputs": []
    },
    {
      "cell_type": "code",
      "source": [
        "criterion = nn.CrossEntropyLoss()\n",
        "optimizer = optim.SGD(model.parameters(), lr=0.01)"
      ],
      "metadata": {
        "id": "aebVyW-9LhcP"
      },
      "execution_count": 15,
      "outputs": []
    },
    {
      "cell_type": "code",
      "source": [
        "import matplotlib.pyplot as plt\n",
        "\n",
        "def train(enc_rep, tar_token_ids, label_ids, epochs=1000):\n",
        "    loss_trace = []\n",
        "    for epoch in range(epochs):\n",
        "        out = model(enc_rep, tar_token_ids)\n",
        "        out = out.view(-1, vocab_size)\n",
        "        target = tar_token_ids.view(-1)\n",
        "\n",
        "        # Compute loss\n",
        "        loss = criterion(out, target.long())\n",
        "        loss_trace.append(loss.item())  # Store the loss value for visualization\n",
        "\n",
        "        # Print loss every 100 epochs\n",
        "        if (epoch + 1) % 100 == 0:\n",
        "            print(f'Loss in epoch - {epoch + 1} is {loss.item()}')\n",
        "\n",
        "        # Backpropagation\n",
        "        loss.backward()\n",
        "\n",
        "        # Update parameters\n",
        "        optimizer.step()\n",
        "        optimizer.zero_grad()\n",
        "\n",
        "    # Plot the loss curve\n",
        "    plt.plot(range(epochs), loss_trace, label='Training Loss')\n",
        "    plt.xlabel('Epochs')\n",
        "    plt.ylabel('Loss')\n",
        "    plt.title('Loss vs. Epochs')\n",
        "    plt.legend()\n",
        "    plt.grid()\n",
        "    plt.show()"
      ],
      "metadata": {
        "id": "8npNWRJ7tWRc"
      },
      "execution_count": 16,
      "outputs": []
    },
    {
      "cell_type": "markdown",
      "source": [
        "* Train the model for 1000 epochs"
      ],
      "metadata": {
        "id": "lXLdvUVKgU3h"
      }
    },
    {
      "cell_type": "code",
      "source": [
        "train(enc_rep,token_ids,label_ids,1000)"
      ],
      "metadata": {
        "id": "svrd7-yHtpme",
        "colab": {
          "base_uri": "https://localhost:8080/",
          "height": 735
        },
        "outputId": "9200a5cf-0f46-43f6-edd0-ff81e80bdf35"
      },
      "execution_count": 17,
      "outputs": [
        {
          "output_type": "stream",
          "name": "stderr",
          "text": [
            "<ipython-input-6-b5d33902253e>:41: UserWarning: To copy construct from a tensor, it is recommended to use sourceTensor.clone().detach() or sourceTensor.clone().detach().requires_grad_(True), rather than torch.tensor(sourceTensor).\n",
            "  dk = torch.tensor(self.dk, dtype=torch.float32)\n",
            "<ipython-input-7-9b822234539e>:42: UserWarning: To copy construct from a tensor, it is recommended to use sourceTensor.clone().detach() or sourceTensor.clone().detach().requires_grad_(True), rather than torch.tensor(sourceTensor).\n",
            "  dk = torch.tensor(self.dk, dtype=torch.float32)\n"
          ]
        },
        {
          "output_type": "stream",
          "name": "stdout",
          "text": [
            "Loss in epoch - 100 is 1.9854390621185303\n",
            "Loss in epoch - 200 is 1.637133240699768\n",
            "Loss in epoch - 300 is 1.3524713516235352\n",
            "Loss in epoch - 400 is 1.1218345165252686\n",
            "Loss in epoch - 500 is 0.9193586111068726\n",
            "Loss in epoch - 600 is 0.7540795207023621\n",
            "Loss in epoch - 700 is 0.5999165773391724\n",
            "Loss in epoch - 800 is 0.47275200486183167\n",
            "Loss in epoch - 900 is 0.36953356862068176\n",
            "Loss in epoch - 1000 is 0.2794091999530792\n"
          ]
        },
        {
          "output_type": "display_data",
          "data": {
            "text/plain": [
              "<Figure size 640x480 with 1 Axes>"
            ],
            "image/png": "[encoded data removed]"
          },
          "metadata": {}
        }
      ]
    },
    {
      "cell_type": "code",
      "source": [
        "with torch.inference_mode():\n",
        "  predictions = torch.argmax(model(enc_rep,token_ids),dim=-1)"
      ],
      "metadata": {
        "id": "M6PLInPW0JIF",
        "colab": {
          "base_uri": "https://localhost:8080/"
        },
        "outputId": "bc63912b-d3a7-4810-caf7-e7d9c26d607c"
      },
      "execution_count": 18,
      "outputs": [
        {
          "output_type": "stream",
          "name": "stderr",
          "text": [
            "<ipython-input-6-b5d33902253e>:41: UserWarning: To copy construct from a tensor, it is recommended to use sourceTensor.clone().detach() or sourceTensor.clone().detach().requires_grad_(True), rather than torch.tensor(sourceTensor).\n",
            "  dk = torch.tensor(self.dk, dtype=torch.float32)\n",
            "<ipython-input-7-9b822234539e>:42: UserWarning: To copy construct from a tensor, it is recommended to use sourceTensor.clone().detach() or sourceTensor.clone().detach().requires_grad_(True), rather than torch.tensor(sourceTensor).\n",
            "  dk = torch.tensor(self.dk, dtype=torch.float32)\n"
          ]
        }
      ]
    },
    {
      "cell_type": "markdown",
      "source": [
        "* The loss will be around 0.17 after 1000 epochs"
      ],
      "metadata": {
        "id": "TsA-osXehjEK"
      }
    },
    {
      "cell_type": "code",
      "source": [
        "# number of correct predictions\n",
        "print(torch.count_nonzero(label_ids==predictions[:,1:]))"
      ],
      "metadata": {
        "id": "hbnfyb5thxCP",
        "colab": {
          "base_uri": "https://localhost:8080/"
        },
        "outputId": "fdc50241-7e05-4d14-dbce-11392d13b39b"
      },
      "execution_count": 19,
      "outputs": [
        {
          "output_type": "stream",
          "name": "stdout",
          "text": [
            "tensor(68)\n"
          ]
        }
      ]
    },
    {
      "cell_type": "markdown",
      "source": [
        "* THe number of correct predictions is close to 66"
      ],
      "metadata": {
        "id": "UXTPr2pd6tfo"
      }
    },
    {
      "cell_type": "code",
      "source": [
        "# Initialize total_num_parameters to zero\n",
        "total_num_parameters = 0\n",
        "\n",
        "# Loop through all named parameters in the model\n",
        "for name, parameter in model.named_parameters():\n",
        "    # Get the number of elements in the parameter tensor\n",
        "    num_params = parameter.numel()\n",
        "    # Print the parameter name and number of elements\n",
        "    print(f\"Parameter name: {name}, Number of parameters: {num_params}\")\n",
        "    # Add this to the total count\n",
        "    total_num_parameters += num_params\n",
        "\n",
        "# Print the total result\n",
        "print('Total number of parameters in the model, including the embedding layer, is:', total_num_parameters)\n"
      ],
      "metadata": {
        "colab": {
          "base_uri": "https://localhost:8080/"
        },
        "id": "7laRDzp3RyQC",
        "outputId": "277e6fec-7840-4472-8b78-d4098f19b8bd"
      },
      "execution_count": 20,
      "outputs": [
        {
          "output_type": "stream",
          "name": "stdout",
          "text": [
            "Parameter name: embed_lookup.embed.weight, Number of parameters: 384\n",
            "Parameter name: dec_layers.0.mhma.WQ, Number of parameters: 1024\n",
            "Parameter name: dec_layers.0.mhma.WK, Number of parameters: 1024\n",
            "Parameter name: dec_layers.0.mhma.WV, Number of parameters: 1024\n",
            "Parameter name: dec_layers.0.mhma.WO, Number of parameters: 1024\n",
            "Parameter name: dec_layers.0.mhca.WQ, Number of parameters: 1024\n",
            "Parameter name: dec_layers.0.mhca.WK, Number of parameters: 1024\n",
            "Parameter name: dec_layers.0.mhca.WV, Number of parameters: 1024\n",
            "Parameter name: dec_layers.0.mhca.WO, Number of parameters: 1024\n",
            "Parameter name: dec_layers.0.ffn.linear1.weight, Number of parameters: 4096\n",
            "Parameter name: dec_layers.0.ffn.linear1.bias, Number of parameters: 128\n",
            "Parameter name: dec_layers.0.ffn.linear2.weight, Number of parameters: 4096\n",
            "Parameter name: dec_layers.0.ffn.linear2.bias, Number of parameters: 32\n",
            "Parameter name: dec_layers.0.layer_norm_mhma.weight, Number of parameters: 32\n",
            "Parameter name: dec_layers.0.layer_norm_mhma.bias, Number of parameters: 32\n",
            "Parameter name: dec_layers.0.layer_norm_mhca.weight, Number of parameters: 32\n",
            "Parameter name: dec_layers.0.layer_norm_mhca.bias, Number of parameters: 32\n",
            "Parameter name: dec_layers.0.layer_norm_ffn.weight, Number of parameters: 32\n",
            "Parameter name: dec_layers.0.layer_norm_ffn.bias, Number of parameters: 32\n",
            "Parameter name: output_layer.linear.weight, Number of parameters: 384\n",
            "Parameter name: output_layer.linear.bias, Number of parameters: 12\n",
            "Total number of parameters in the model, including the embedding layer, is: 17516\n"
          ]
        }
      ]
    }
  ]
}