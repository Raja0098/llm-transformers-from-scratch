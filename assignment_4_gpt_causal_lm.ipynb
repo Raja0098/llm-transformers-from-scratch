{
  "cells": [
    {
      "cell_type": "markdown",
      "metadata": {
        "id": "lYT5NXV-2eXr"
      },
      "source": [
        "In this assignment, you will be implementing a GPT model and train it using CLM objective.\n",
        " * If you get stuck at something or need more clarrifications, you may refer to : https://github.com/karpathy/minGPT/blob/master/mingpt/model.py\n",
        "\n",
        " * We will be using ReLU activation function instead of GELU.\n",
        "\n",
        " * As usual, let us install the required libraries\n",
        "\n",
        " * **Note** that if you are not getting the exact loss values as mentioned in this notebook, that is absolutely fine. Just see whether your implementation overfits the given toy-and-tiny paragraph!"
      ]
    },
    {
      "cell_type": "markdown",
      "metadata": {
        "id": "hdKopIVVtzKx"
      },
      "source": [
        "# Installation\n"
      ]
    },
    {
      "cell_type": "code",
      "execution_count": null,
      "metadata": {
        "colab": {
          "base_uri": "https://localhost:8080/",
          "height": 1000
        },
        "id": "HF0ap-B02CW7",
        "outputId": "a567c78f-674f-46e6-89b6-d667b8b0df01"
      },
      "outputs": [
        {
          "name": "stdout",
          "output_type": "stream",
          "text": [
            "Requirement already satisfied: torchdata==0.6.0 in c:\\users\\dell\\anaconda3\\lib\\site-packages (0.6.0)\n",
            "Requirement already satisfied: urllib3>=1.25 in c:\\users\\dell\\anaconda3\\lib\\site-packages (from torchdata==0.6.0) (2.0.7)\n",
            "Requirement already satisfied: requests in c:\\users\\dell\\anaconda3\\lib\\site-packages (from torchdata==0.6.0) (2.31.0)\n",
            "Requirement already satisfied: torch==2.0.0 in c:\\users\\dell\\anaconda3\\lib\\site-packages (from torchdata==0.6.0) (2.0.0)\n",
            "Requirement already satisfied: filelock in c:\\users\\dell\\anaconda3\\lib\\site-packages (from torch==2.0.0->torchdata==0.6.0) (3.13.1)\n",
            "Requirement already satisfied: typing-extensions in c:\\users\\dell\\anaconda3\\lib\\site-packages (from torch==2.0.0->torchdata==0.6.0) (4.9.0)\n",
            "Requirement already satisfied: sympy in c:\\users\\dell\\anaconda3\\lib\\site-packages (from torch==2.0.0->torchdata==0.6.0) (1.12)\n",
            "Requirement already satisfied: networkx in c:\\users\\dell\\anaconda3\\lib\\site-packages (from torch==2.0.0->torchdata==0.6.0) (3.1)\n",
            "Requirement already satisfied: jinja2 in c:\\users\\dell\\anaconda3\\lib\\site-packages (from torch==2.0.0->torchdata==0.6.0) (3.1.3)\n",
            "Requirement already satisfied: charset-normalizer<4,>=2 in c:\\users\\dell\\anaconda3\\lib\\site-packages (from requests->torchdata==0.6.0) (2.0.4)\n",
            "Requirement already satisfied: idna<4,>=2.5 in c:\\users\\dell\\anaconda3\\lib\\site-packages (from requests->torchdata==0.6.0) (3.4)\n",
            "Requirement already satisfied: certifi>=2017.4.17 in c:\\users\\dell\\anaconda3\\lib\\site-packages (from requests->torchdata==0.6.0) (2024.2.2)\n",
            "Requirement already satisfied: MarkupSafe>=2.0 in c:\\users\\dell\\anaconda3\\lib\\site-packages (from jinja2->torch==2.0.0->torchdata==0.6.0) (2.1.3)\n",
            "Requirement already satisfied: mpmath>=0.19 in c:\\users\\dell\\anaconda3\\lib\\site-packages (from sympy->torch==2.0.0->torchdata==0.6.0) (1.3.0)\n",
            "Requirement already satisfied: portalocker==2.0.0 in c:\\users\\dell\\anaconda3\\lib\\site-packages (2.0.0)\n",
            "Requirement already satisfied: pywin32!=226 in c:\\users\\dell\\anaconda3\\lib\\site-packages (from portalocker==2.0.0) (305.1)\n"
          ]
        }
      ],
      "source": [
        "!pip install torchdata==0.6.0\n",
        "!pip install portalocker==2.0.0"
      ]
    },
    {
      "cell_type": "markdown",
      "metadata": {
        "id": "37SOAt7OE8pW"
      },
      "source": [
        "* See [here](https://github.com/pytorch/text) for compatability"
      ]
    },
    {
      "cell_type": "code",
      "execution_count": null,
      "metadata": {
        "colab": {
          "base_uri": "https://localhost:8080/"
        },
        "id": "amMg7VeGEnui",
        "outputId": "fae79843-fd19-4786-ea52-2bf0935f2334"
      },
      "outputs": [
        {
          "name": "stdout",
          "output_type": "stream",
          "text": [
            "Requirement already satisfied: torchtext==0.15.1 in c:\\users\\dell\\anaconda3\\lib\\site-packages (0.15.1)\n",
            "Requirement already satisfied: tqdm in c:\\users\\dell\\anaconda3\\lib\\site-packages (from torchtext==0.15.1) (4.65.0)\n",
            "Requirement already satisfied: requests in c:\\users\\dell\\anaconda3\\lib\\site-packages (from torchtext==0.15.1) (2.31.0)\n",
            "Requirement already satisfied: torch==2.0.0 in c:\\users\\dell\\anaconda3\\lib\\site-packages (from torchtext==0.15.1) (2.0.0)\n",
            "Requirement already satisfied: numpy in c:\\users\\dell\\anaconda3\\lib\\site-packages (from torchtext==0.15.1) (1.26.4)\n",
            "Requirement already satisfied: torchdata==0.6.0 in c:\\users\\dell\\anaconda3\\lib\\site-packages (from torchtext==0.15.1) (0.6.0)\n",
            "Requirement already satisfied: filelock in c:\\users\\dell\\anaconda3\\lib\\site-packages (from torch==2.0.0->torchtext==0.15.1) (3.13.1)\n",
            "Requirement already satisfied: typing-extensions in c:\\users\\dell\\anaconda3\\lib\\site-packages (from torch==2.0.0->torchtext==0.15.1) (4.9.0)\n",
            "Requirement already satisfied: sympy in c:\\users\\dell\\anaconda3\\lib\\site-packages (from torch==2.0.0->torchtext==0.15.1) (1.12)\n",
            "Requirement already satisfied: networkx in c:\\users\\dell\\anaconda3\\lib\\site-packages (from torch==2.0.0->torchtext==0.15.1) (3.1)\n",
            "Requirement already satisfied: jinja2 in c:\\users\\dell\\anaconda3\\lib\\site-packages (from torch==2.0.0->torchtext==0.15.1) (3.1.3)\n",
            "Requirement already satisfied: urllib3>=1.25 in c:\\users\\dell\\anaconda3\\lib\\site-packages (from torchdata==0.6.0->torchtext==0.15.1) (2.0.7)\n",
            "Requirement already satisfied: charset-normalizer<4,>=2 in c:\\users\\dell\\anaconda3\\lib\\site-packages (from requests->torchtext==0.15.1) (2.0.4)\n",
            "Requirement already satisfied: idna<4,>=2.5 in c:\\users\\dell\\anaconda3\\lib\\site-packages (from requests->torchtext==0.15.1) (3.4)\n",
            "Requirement already satisfied: certifi>=2017.4.17 in c:\\users\\dell\\anaconda3\\lib\\site-packages (from requests->torchtext==0.15.1) (2024.2.2)\n",
            "Requirement already satisfied: colorama in c:\\users\\dell\\anaconda3\\lib\\site-packages (from tqdm->torchtext==0.15.1) (0.4.6)\n",
            "Requirement already satisfied: MarkupSafe>=2.0 in c:\\users\\dell\\anaconda3\\lib\\site-packages (from jinja2->torch==2.0.0->torchtext==0.15.1) (2.1.3)\n",
            "Requirement already satisfied: mpmath>=0.19 in c:\\users\\dell\\anaconda3\\lib\\site-packages (from sympy->torch==2.0.0->torchtext==0.15.1) (1.3.0)\n"
          ]
        }
      ],
      "source": [
        "!pip install -U torchtext==0.15.1"
      ]
    },
    {
      "cell_type": "markdown",
      "metadata": {
        "id": "OFnTb-YGtudi"
      },
      "source": [
        "# Imports"
      ]
    },
    {
      "cell_type": "code",
      "execution_count": null,
      "metadata": {
        "id": "NCbW1AUlZsoO"
      },
      "outputs": [],
      "source": [
        "import torch\n",
        "from torch import Tensor\n",
        "import math\n",
        "\n",
        "import torch.nn as nn\n",
        "from torch.nn import Parameter\n",
        "import torch.nn.functional as F\n",
        "from torch.nn.functional import one_hot\n",
        "\n",
        "import torch.optim as optim\n",
        "\n",
        "#text lib\n",
        "import torchtext\n",
        "\n",
        "# tokenizer\n",
        "from torchtext.data.utils import get_tokenizer\n",
        "\n",
        "#build vocabulary\n",
        "from torchtext.vocab import vocab\n",
        "from torchtext.vocab import build_vocab_from_iterator\n",
        "\n",
        "# get input_ids (numericalization)\n",
        "from torchtext.transforms import VocabTransform\n",
        "\n",
        "# get embeddings\n",
        "from torch.nn import Embedding\n",
        "\n",
        "from  pprint import pprint\n",
        "from yaml import safe_load\n",
        "import copy\n",
        "import numpy as np"
      ]
    },
    {
      "cell_type": "code",
      "execution_count": null,
      "metadata": {
        "colab": {
          "base_uri": "https://localhost:8080/"
        },
        "id": "IjjPjidG6kr1",
        "outputId": "955cbf4b-2795-41f4-d09b-ef3fda807a3d"
      },
      "outputs": [
        {
          "name": "stderr",
          "output_type": "stream",
          "text": [
            "[nltk_data] Downloading package punkt to\n",
            "[nltk_data]     C:\\Users\\Dell\\AppData\\Roaming\\nltk_data...\n",
            "[nltk_data]   Unzipping tokenizers\\punkt.zip.\n"
          ]
        },
        {
          "data": {
            "text/plain": [
              "True"
            ]
          },
          "execution_count": 5,
          "metadata": {},
          "output_type": "execute_result"
        }
      ],
      "source": [
        "import nltk\n",
        "nltk.download('punkt')"
      ]
    },
    {
      "cell_type": "markdown",
      "metadata": {
        "id": "4wTjUVQRaoqI"
      },
      "source": [
        "# Load the dataset for LM modeling\n",
        "\n",
        " * We use a simple tokenizer and put"
      ]
    },
    {
      "cell_type": "code",
      "execution_count": null,
      "metadata": {
        "id": "-aWB84SAN00b"
      },
      "outputs": [],
      "source": [
        "batch_size = 10"
      ]
    },
    {
      "cell_type": "code",
      "execution_count": null,
      "metadata": {
        "id": "EBzIVx8u5VQU"
      },
      "outputs": [],
      "source": [
        "class Tokenizer(object):\n",
        "\n",
        "  def __init__(self,text):\n",
        "    self.text = text\n",
        "    self.word_tokenizer = get_tokenizer(tokenizer=\"basic_english\",language='en')\n",
        "    self.vocab_size = None\n",
        "\n",
        "  def get_tokens(self):\n",
        "    for sentence in self.text.strip().split('\\n'):\n",
        "      yield self.word_tokenizer(sentence)\n",
        "\n",
        "  def build_vocab(self):\n",
        "    v = build_vocab_from_iterator(self.get_tokens(),\n",
        "                                  min_freq=1,specials=['<unk>','<start>','<end>'])\n",
        "    v.set_default_index(v['<unk>']) # index of OOV\n",
        "    self.vocab_size = len(v)\n",
        "    return v\n",
        "\n",
        "  def token_ids(self):\n",
        "    v = self.build_vocab()\n",
        "    vt = VocabTransform(v)\n",
        "    num_tokens = len(self.word_tokenizer(self.text))\n",
        "    max_seq_len = np.ceil(num_tokens/batch_size)\n",
        "    data = torch.zeros(size=(1,num_tokens))\n",
        "    data = vt(self.word_tokenizer(self.text))\n",
        "    data = torch.tensor(data,dtype=torch.int64)\n",
        "    return data.reshape(batch_size,torch.tensor(max_seq_len,dtype=torch.int64))\n",
        "\n"
      ]
    },
    {
      "cell_type": "code",
      "execution_count": null,
      "metadata": {
        "id": "FE1L07Z-AoNz"
      },
      "outputs": [],
      "source": [
        "text = \"\"\"Best known for the invention of Error Correcting Codes, he was a true polymath who applied his mathematical and problem-solving skills to numerous disciplines.\n",
        "Reflecting on the significant benefits I received from Hamming, I decided to develop a tribute to his legacy. There has not been a previous biography of Hamming, and the few articles about him restate known facts and assumptions and leave us with open questions.\n",
        "One thought drove me as I developed this legacy project: An individual's legacy is more than a list of their attempts and accomplishments. Their tribute should also reveal the succeeding generations they inspired and enabled and what each attempted and achieved.\n",
        "This book is a unique genre containing my version of a biography that intertwines the story \"of a life\" and a multi-player memoir with particular events and turning points recalled by those, including me, who he inspired and enabled.\n",
        "Five years of research uncovered the people, places, opportunities, events, and influences that shaped Hamming. I discovered unpublished information, stories, photographs, videos, and personal remembrances to chronicle his life, which helped me put Hamming's\n",
        "legacy in the context I wanted.The result demonstrates many exceptional qualities, including his noble pursuit of excellence and helping others. Hamming paid attention to the details, his writings continue to influence, and his guidance is a timeless gift to the world.\n",
        "This biography is part of \"\"\""
      ]
    },
    {
      "cell_type": "code",
      "execution_count": null,
      "metadata": {
        "colab": {
          "base_uri": "https://localhost:8080/"
        },
        "id": "IA9GqXl8QvLo",
        "outputId": "d50447b0-bba9-4c40-df63-4af584a328a2"
      },
      "outputs": [
        {
          "data": {
            "text/plain": [
              "['Best known for the invention of Error Correcting Codes, he was a true polymath who applied his mathematical and problem-solving skills to numerous disciplines',\n",
              " '\\nReflecting on the significant benefits I received from Hamming, I decided to develop a tribute to his legacy',\n",
              " ' There has not been a previous biography of Hamming, and the few articles about him restate known facts and assumptions and leave us with open questions',\n",
              " \"\\nOne thought drove me as I developed this legacy project: An individual's legacy is more than a list of their attempts and accomplishments\",\n",
              " ' Their tribute should also reveal the succeeding generations they inspired and enabled and what each attempted and achieved',\n",
              " '\\nThis book is a unique genre containing my version of a biography that intertwines the story \"of a life\" and a multi-player memoir with particular events and turning points recalled by those, including me, who he inspired and enabled',\n",
              " '\\nFive years of research uncovered the people, places, opportunities, events, and influences that shaped Hamming',\n",
              " \" I discovered unpublished information, stories, photographs, videos, and personal remembrances to chronicle his life, which helped me put Hamming's\\nlegacy in the context I wanted\",\n",
              " 'The result demonstrates many exceptional qualities, including his noble pursuit of excellence and helping others',\n",
              " ' Hamming paid attention to the details, his writings continue to influence, and his guidance is a timeless gift to the world',\n",
              " '\\nThis biography is part of ']"
            ]
          },
          "execution_count": 9,
          "metadata": {},
          "output_type": "execute_result"
        }
      ],
      "source": [
        "# Split the text by '.'\n",
        "sentences = text.split('.')\n",
        "sentences"
      ]
    },
    {
      "cell_type": "code",
      "execution_count": null,
      "metadata": {
        "id": "-OD9gBdaBHs1"
      },
      "outputs": [],
      "source": [
        "Tk = Tokenizer(text)\n"
      ]
    },
    {
      "cell_type": "code",
      "execution_count": null,
      "metadata": {
        "colab": {
          "base_uri": "https://localhost:8080/"
        },
        "id": "VTz7eGsSFK24",
        "outputId": "9dfc0deb-9016-4ac1-cdcb-0946b4ee7223"
      },
      "outputs": [
        {
          "name": "stdout",
          "output_type": "stream",
          "text": [
            "torch.Size([10, 26])\n",
            "tensor([[ 46,  24,  70,   6,  86,   8,  64,  54,  50,   3,  21, 149,   7, 140,\n",
            "         111,  30,  37,  10,  90,   4, 113, 130,   9,  97,  60,   5],\n",
            "        [121,  98,   6, 129,  45,  12, 120,  71,  11,   3,  12,  55,   9,  58,\n",
            "           7,  29,   9,  10,  14,   5, 135,  76,  96,  44,   7, 112],\n",
            "        [ 15,   8,  11,   3,   4,   6,  68,  38,  32,  79, 124,  24,  67,   4,\n",
            "          40,   4,  87, 145,  31, 100, 118,   5,  99, 138,  62,  16],\n",
            "        [ 39,  12,  59,  17,  14, 114,  36,  81,  18,  26,  14,  13,  92, 134,\n",
            "           7,  88,   8,  28,  42,   4,  33,   5,  28,  29, 128,  35],\n",
            "        [126,   6, 133,  72, 136,  23,   4,  19,   4, 150,  63,  41,   4,  34,\n",
            "           5,  17,  47,  13,   7, 143,  73,  51,  94, 146,   8,   7],\n",
            "        [ 15,  27,  85,   6, 132,   8,   7,  25,   4,   7,  93,  91,  31, 105,\n",
            "          20,   4, 141, 110, 119,  48, 137,   3,  22,  16,   3,  30],\n",
            "        [ 21,  23,   4,  19,   5,  69, 154,   8, 123, 142,   6, 106,   3, 109,\n",
            "           3, 101,   3,  20,   3,   4,  83,  27, 127,  11,   5,  12],\n",
            "        [ 61, 144,  84,   3, 131,   3, 108,   3, 147,   3,   4, 107, 122,   9,\n",
            "          49,  10,  25,   3, 151,  77,  16, 116,  11,  18,  26,  14],\n",
            "        [ 80,   6,  52,  12, 148,   5,   6, 125,  56,  89,  66, 117,   3,  22,\n",
            "          10,  95, 115,   8,  65,   4,  78, 102,   5,  11, 103,  43],\n",
            "        [  9,   6,  57,   3,  10, 153,  53,   9,  82,   3,   4,  10,  75,  13,\n",
            "           7, 139,  74,   9,   6, 152,   5,  17,  15,  13, 104,   8]])\n"
          ]
        }
      ],
      "source": [
        "x_raw = Tk.token_ids()\n",
        "print(x_raw.shape)\n",
        "print(x_raw)"
      ]
    },
    {
      "cell_type": "code",
      "execution_count": null,
      "metadata": {
        "colab": {
          "base_uri": "https://localhost:8080/"
        },
        "id": "ToL6j7ECOEIC",
        "outputId": "39fa9f5f-7c45-4ed1-eaa3-8fd2c46c856e"
      },
      "outputs": [
        {
          "name": "stdout",
          "output_type": "stream",
          "text": [
            "['<unk>', '<start>', '<end>', ',', 'and', '.', 'the', 'a', 'of', 'to']\n"
          ]
        }
      ],
      "source": [
        "# let us display the first 10 tokens of the vocabulary\n",
        "vocab = Tk.build_vocab()\n",
        "pprint(vocab.vocab.get_itos()[0:10])"
      ]
    },
    {
      "cell_type": "code",
      "execution_count": null,
      "metadata": {
        "colab": {
          "base_uri": "https://localhost:8080/"
        },
        "id": "bf5-MO_MRi64",
        "outputId": "a05f6950-9571-48ef-83fc-5747a600c9ff"
      },
      "outputs": [
        {
          "name": "stdout",
          "output_type": "stream",
          "text": [
            "155 ['<unk>', '<start>', '<end>', ',', 'and', '.', 'the', 'a', 'of', 'to', 'his', 'hamming', 'i', 'is', 'legacy', 'biography', 'me', 'this', \"'\", 'enabled', 'events', 'he', 'including', 'inspired', 'known', 'life', 's', 'that', 'their', 'tribute', 'who', 'with', 'about', 'accomplishments', 'achieved', 'also', 'an', 'applied', 'articles', 'as', 'assumptions', 'attempted', 'attempts', 'attention', 'been', 'benefits', 'best', 'book', 'by', 'chronicle', 'codes', 'containing', 'context', 'continue', 'correcting', 'decided', 'demonstrates', 'details', 'develop', 'developed', 'disciplines', 'discovered', 'drove', 'each', 'error', 'excellence', 'exceptional', 'facts', 'few', 'five', 'for', 'from', 'generations', 'genre', 'gift', 'guidance', 'has', 'helped', 'helping', 'him', 'in', 'individual', 'influence', 'influences', 'information', 'intertwines', 'invention', 'leave', 'list', 'many', 'mathematical', 'memoir', 'more', 'multi-player', 'my', 'noble', 'not', 'numerous', 'on', 'one', 'open', 'opportunities', 'others', 'paid', 'part', 'particular', 'people', 'personal', 'photographs', 'places', 'points', 'polymath', 'previous', 'problem-solving', 'project', 'pursuit', 'put', 'qualities', 'questions', 'recalled', 'received', 'reflecting', 'remembrances', 'research', 'restate', 'result', 'reveal', 'shaped', 'should', 'significant', 'skills', 'stories', 'story', 'succeeding', 'than', 'there', 'they', 'those', 'thought', 'timeless', 'true', 'turning', 'uncovered', 'unique', 'unpublished', 'us', 'version', 'videos', 'wanted', 'was', 'what', 'which', 'world', 'writings']\n"
          ]
        }
      ],
      "source": [
        "print(len(vocab), vocab.get_itos()[0:-1])"
      ]
    },
    {
      "cell_type": "markdown",
      "metadata": {
        "id": "Gs00A32ieNJp"
      },
      "source": [
        "* Create the input_ids and Labels from the raw input sequence"
      ]
    },
    {
      "cell_type": "code",
      "execution_count": null,
      "metadata": {
        "colab": {
          "base_uri": "https://localhost:8080/"
        },
        "id": "4dCg4PYfaXhP",
        "outputId": "21de7630-505a-4c93-e7f0-69bf335fd42a"
      },
      "outputs": [
        {
          "name": "stdout",
          "output_type": "stream",
          "text": [
            "<start> best known for the invention of error correcting codes , he was a true polymath who applied his mathematical and problem-solving skills to numerous disciplines . <end>\n"
          ]
        }
      ],
      "source": [
        "bs,raw_seq_len = x_raw.shape\n",
        "x = torch.empty(size=(bs,raw_seq_len+2),dtype=torch.int64)\n",
        "x[:,1:-1] =x_raw\n",
        "\n",
        "# insert the index of special tokens\n",
        "x[:,0] = torch.full(size=(1,batch_size),fill_value=vocab.vocab.get_stoi()['<start>'])\n",
        "x[:,-1] = torch.full(size=(1,batch_size),fill_value=vocab.vocab.get_stoi()['<end>'])\n",
        "\n",
        "#Quickly check implem\n",
        "vocab = Tk.build_vocab()\n",
        "words = []\n",
        "for idx in x[0,:]:\n",
        "  words.append(vocab.vocab.get_itos()[idx.item()])\n",
        "print(' '.join(words))"
      ]
    },
    {
      "cell_type": "code",
      "execution_count": null,
      "metadata": {
        "id": "A-Y0R3FSfEex"
      },
      "outputs": [],
      "source": [
        "# labels are just the input_ids shifted by right\n",
        "bs,seq_len = x.shape\n",
        "y = torch.empty(size=(bs,seq_len),dtype=torch.int64)\n",
        "y[:,0:-1] = copy.deepcopy(x[:,1:])\n",
        "\n",
        "#ignore the index of padded tokens while computing loss\n",
        "y[:,-1] = torch.full(size=(1,batch_size),fill_value=-100)"
      ]
    },
    {
      "cell_type": "code",
      "execution_count": null,
      "metadata": {
        "colab": {
          "base_uri": "https://localhost:8080/"
        },
        "id": "uGbKIKxp-Erw",
        "outputId": "7fd999a9-69f4-4dc0-e1a0-d3c7373b3903"
      },
      "outputs": [
        {
          "name": "stdout",
          "output_type": "stream",
          "text": [
            "Initial input is tensor([[  1,  46,  24,  70,   6,  86,   8,  64,  54,  50,   3,  21, 149,   7,\n",
            "         140, 111,  30,  37,  10,  90,   4, 113, 130,   9,  97,  60,   5,   2],\n",
            "        [  1, 121,  98,   6, 129,  45,  12, 120,  71,  11,   3,  12,  55,   9,\n",
            "          58,   7,  29,   9,  10,  14,   5, 135,  76,  96,  44,   7, 112,   2],\n",
            "        [  1,  15,   8,  11,   3,   4,   6,  68,  38,  32,  79, 124,  24,  67,\n",
            "           4,  40,   4,  87, 145,  31, 100, 118,   5,  99, 138,  62,  16,   2],\n",
            "        [  1,  39,  12,  59,  17,  14, 114,  36,  81,  18,  26,  14,  13,  92,\n",
            "         134,   7,  88,   8,  28,  42,   4,  33,   5,  28,  29, 128,  35,   2],\n",
            "        [  1, 126,   6, 133,  72, 136,  23,   4,  19,   4, 150,  63,  41,   4,\n",
            "          34,   5,  17,  47,  13,   7, 143,  73,  51,  94, 146,   8,   7,   2],\n",
            "        [  1,  15,  27,  85,   6, 132,   8,   7,  25,   4,   7,  93,  91,  31,\n",
            "         105,  20,   4, 141, 110, 119,  48, 137,   3,  22,  16,   3,  30,   2],\n",
            "        [  1,  21,  23,   4,  19,   5,  69, 154,   8, 123, 142,   6, 106,   3,\n",
            "         109,   3, 101,   3,  20,   3,   4,  83,  27, 127,  11,   5,  12,   2],\n",
            "        [  1,  61, 144,  84,   3, 131,   3, 108,   3, 147,   3,   4, 107, 122,\n",
            "           9,  49,  10,  25,   3, 151,  77,  16, 116,  11,  18,  26,  14,   2],\n",
            "        [  1,  80,   6,  52,  12, 148,   5,   6, 125,  56,  89,  66, 117,   3,\n",
            "          22,  10,  95, 115,   8,  65,   4,  78, 102,   5,  11, 103,  43,   2],\n",
            "        [  1,   9,   6,  57,   3,  10, 153,  53,   9,  82,   3,   4,  10,  75,\n",
            "          13,   7, 139,  74,   9,   6, 152,   5,  17,  15,  13, 104,   8,   2]]) and its shape is torch.Size([10, 28])\n",
            "Expected output is tensor([[  46,   24,   70,    6,   86,    8,   64,   54,   50,    3,   21,  149,\n",
            "            7,  140,  111,   30,   37,   10,   90,    4,  113,  130,    9,   97,\n",
            "           60,    5,    2, -100],\n",
            "        [ 121,   98,    6,  129,   45,   12,  120,   71,   11,    3,   12,   55,\n",
            "            9,   58,    7,   29,    9,   10,   14,    5,  135,   76,   96,   44,\n",
            "            7,  112,    2, -100],\n",
            "        [  15,    8,   11,    3,    4,    6,   68,   38,   32,   79,  124,   24,\n",
            "           67,    4,   40,    4,   87,  145,   31,  100,  118,    5,   99,  138,\n",
            "           62,   16,    2, -100],\n",
            "        [  39,   12,   59,   17,   14,  114,   36,   81,   18,   26,   14,   13,\n",
            "           92,  134,    7,   88,    8,   28,   42,    4,   33,    5,   28,   29,\n",
            "          128,   35,    2, -100],\n",
            "        [ 126,    6,  133,   72,  136,   23,    4,   19,    4,  150,   63,   41,\n",
            "            4,   34,    5,   17,   47,   13,    7,  143,   73,   51,   94,  146,\n",
            "            8,    7,    2, -100],\n",
            "        [  15,   27,   85,    6,  132,    8,    7,   25,    4,    7,   93,   91,\n",
            "           31,  105,   20,    4,  141,  110,  119,   48,  137,    3,   22,   16,\n",
            "            3,   30,    2, -100],\n",
            "        [  21,   23,    4,   19,    5,   69,  154,    8,  123,  142,    6,  106,\n",
            "            3,  109,    3,  101,    3,   20,    3,    4,   83,   27,  127,   11,\n",
            "            5,   12,    2, -100],\n",
            "        [  61,  144,   84,    3,  131,    3,  108,    3,  147,    3,    4,  107,\n",
            "          122,    9,   49,   10,   25,    3,  151,   77,   16,  116,   11,   18,\n",
            "           26,   14,    2, -100],\n",
            "        [  80,    6,   52,   12,  148,    5,    6,  125,   56,   89,   66,  117,\n",
            "            3,   22,   10,   95,  115,    8,   65,    4,   78,  102,    5,   11,\n",
            "          103,   43,    2, -100],\n",
            "        [   9,    6,   57,    3,   10,  153,   53,    9,   82,    3,    4,   10,\n",
            "           75,   13,    7,  139,   74,    9,    6,  152,    5,   17,   15,   13,\n",
            "          104,    8,    2, -100]]) and its shape is torch.Size([10, 28])\n"
          ]
        }
      ],
      "source": [
        "print(f\"Initial input is {x} and its shape is {x.shape}\")\n",
        "print(f\"Expected output is {y} and its shape is {y.shape}\")"
      ]
    },
    {
      "cell_type": "markdown",
      "metadata": {
        "id": "z8-18UlZ2ES7"
      },
      "source": [
        "# Configuration"
      ]
    },
    {
      "cell_type": "code",
      "execution_count": null,
      "metadata": {
        "colab": {
          "base_uri": "https://localhost:8080/"
        },
        "id": "2kgKn1Emakah",
        "outputId": "b827fa2a-95df-4a05-ab93-105e28ac8656"
      },
      "outputs": [
        {
          "name": "stdout",
          "output_type": "stream",
          "text": [
            "Vocab size is 155, seq_len is 28, embed_dim and dmodel is 32, dq, dk and dv are 4, no. of heads are8, dff is 128\n"
          ]
        }
      ],
      "source": [
        "vocab_size = Tk.vocab_size\n",
        "seq_len = x.shape[1]\n",
        "embed_dim = 32\n",
        "dmodel = embed_dim\n",
        "dq = torch.tensor(4)\n",
        "dk = torch.tensor(4)\n",
        "dv = torch.tensor(4)\n",
        "heads = torch.tensor(8)\n",
        "d_ff = 4*dmodel\n",
        "print(f\"Vocab size is {vocab_size}, seq_len is {seq_len}, embed_dim and dmodel is {dmodel}, dq, dk and dv are {dq}, no. of heads are{heads}, dff is {d_ff}\")"
      ]
    },
    {
      "cell_type": "markdown",
      "metadata": {
        "id": "oyQlw_Q9OLFT"
      },
      "source": [
        "* Define all the sub-layers (mhma,ffn) in the transformer blocks\n",
        "* Seed for $W_Q,W_K,W_V,W_O$, 43, 44 and 45, 46, respectively\n",
        "* Seed for ffn $W_1,W_2$,  47 and 48. There are no biases\n",
        "* Seed for output layer 49"
      ]
    },
    {
      "cell_type": "code",
      "execution_count": null,
      "metadata": {
        "id": "dIL2wDtuSWOP"
      },
      "outputs": [],
      "source": [
        "class MHMA(nn.Module):\n",
        "    def __init__(self, d_model, dq, dk, dv, heads):\n",
        "        super(MHMA, self).__init__()\n",
        "\n",
        "        self.d_model = d_model  # Model dimension (output dimension)\n",
        "        self.heads = heads  # Number of attention heads\n",
        "        self.dq = dq  # Query dimension per head\n",
        "        self.dk = dk  # Key dimension per head\n",
        "        self.dv = dv  # Value dimension per head\n",
        "\n",
        "        # Initialize the weight matrices\n",
        "        self.W_q = nn.Parameter(torch.randn((heads, d_model, dq), generator=torch.manual_seed(43)))\n",
        "        self.W_k = nn.Parameter(torch.randn((heads, d_model, dk), generator=torch.manual_seed(44)))\n",
        "        self.W_v = nn.Parameter(torch.randn((heads, d_model, dv), generator=torch.manual_seed(45)))\n",
        "        self.W_o = nn.Parameter(torch.randn((d_model, d_model), generator=torch.manual_seed(46)))\n",
        "\n",
        "        # Xavier initialization\n",
        "        nn.init.xavier_uniform_(self.W_q)\n",
        "        nn.init.xavier_uniform_(self.W_k)\n",
        "        nn.init.xavier_uniform_(self.W_v)\n",
        "        nn.init.xavier_uniform_(self.W_o)\n",
        "\n",
        "        # Attention head size\n",
        "        self.attn_head_size = self.dk  # Typically dk == dq == dv per head\n",
        "\n",
        "    def forward(self, Q, K, V, mask=None):\n",
        "        BS, T, _ = Q.shape\n",
        "        #print(f\"Q shape: {Q.shape}, K shape: {K.shape}, V shape: {V.shape}\")  # Debugging line\n",
        "        Q = torch.einsum('BTM, HMQ -> BHTQ', Q, self.W_q)\n",
        "        K = torch.einsum('BTM, HMK -> BHTK', K, self.W_k)\n",
        "        V = torch.einsum('BTM, HMV -> BHTV', V, self.W_v)\n",
        "        #print(f\"Transformed Q shape: {Q.shape}, K shape: {K.shape}, V shape: {V.shape}\")  # Debugging line\n",
        "        # Handle the case when mask is None during inference\n",
        "        if mask is not None:\n",
        "            #print(f\"Mask in use and its shape is {mask.shape}\")\n",
        "            attn_score = torch.matmul(F.softmax((torch.matmul(Q, torch.transpose(K, -2, -1)) + mask) / math.sqrt(self.dq), dim=-1), V)\n",
        "        else:\n",
        "            #print(\" No Masking\")\n",
        "            attn_score = torch.matmul(F.softmax(torch.matmul(Q, torch.transpose(K, -2, -1)) / math.sqrt(self.dq), dim=-1), V)\n",
        "        #print(f\"Attention score shappe is {attn_score.shape}\")\n",
        "        combined_attn = attn_score.permute(0, 2, 1, 3).contiguous().view(BS, T, -1)\n",
        "        out = torch.matmul(combined_attn, self.W_o)\n",
        "        #print(f\"Final output from MHMA shape is {out.shape}\")\n",
        "        return out\n"
      ]
    },
    {
      "cell_type": "code",
      "execution_count": null,
      "metadata": {
        "id": "pYbjvGc-SXlR"
      },
      "outputs": [],
      "source": [
        "class FFN(nn.Module):\n",
        "    def __init__(self, dmodel, d_ff):\n",
        "        super(FFN, self).__init__()\n",
        "        torch.manual_seed(47)\n",
        "        self.W1 = nn.Linear(dmodel, d_ff, bias=False)\n",
        "        torch.manual_seed(48)\n",
        "        self.W2 = nn.Linear(d_ff, dmodel, bias=False)\n",
        "\n",
        "    def forward(self, x):\n",
        "        return self.W2(F.relu(self.W1(x)))\n"
      ]
    },
    {
      "cell_type": "code",
      "execution_count": null,
      "metadata": {
        "id": "20yIrgtkSbEv"
      },
      "outputs": [],
      "source": [
        "class PredictionHead(nn.Module):\n",
        "    def __init__(self, dmodel, vocab_size):\n",
        "        super(PredictionHead, self).__init__()\n",
        "        torch.manual_seed(49)\n",
        "        self.proj = nn.Linear(dmodel, vocab_size, bias=False)\n",
        "\n",
        "    def forward(self, x):\n",
        "        return self.proj(x)\n"
      ]
    },
    {
      "cell_type": "code",
      "execution_count": null,
      "metadata": {
        "id": "JKNRBf6XSz1h"
      },
      "outputs": [],
      "source": [
        "class PositionalHead(nn.Module):\n",
        "    def __init__(self, dmodel, max_seq_len=512):\n",
        "        super(PositionalHead, self).__init__()\n",
        "        self.dmodel = dmodel\n",
        "\n",
        "        # Compute positional encodings once for all positions\n",
        "        pe = torch.zeros(max_seq_len, dmodel)\n",
        "        position = torch.arange(0, max_seq_len, dtype=torch.float).unsqueeze(1)\n",
        "        div_term = torch.exp(torch.arange(0, dmodel, 2).float() * (-torch.log(torch.tensor(10000.0)) / dmodel))\n",
        "        pe[:, 0::2] = torch.sin(position * div_term)\n",
        "        pe[:, 1::2] = torch.cos(position * div_term)\n",
        "        self.register_buffer('pe', pe.unsqueeze(0))\n",
        "\n",
        "    def forward(self, x):\n",
        "        return x + self.pe[:, :x.size(1)]\n"
      ]
    },
    {
      "cell_type": "code",
      "execution_count": null,
      "metadata": {
        "id": "3seYE0G0Vwyk"
      },
      "outputs": [],
      "source": [
        "### Creating mask for training\n",
        "mask = (torch.triu(torch.ones(seq_len,seq_len)) == 1).transpose(0,1)\n",
        "mask = mask.float().masked_fill(mask == 0, float('-inf')).masked_fill(mask == 1, float(0.0))\n",
        "#print(mask)"
      ]
    },
    {
      "cell_type": "code",
      "execution_count": null,
      "metadata": {
        "id": "-Z_eWhYUz4rQ"
      },
      "outputs": [],
      "source": [
        "class DecoderLayer(nn.Module):\n",
        "    def __init__(self, dmodel, dq, dk, dv, d_ff, heads):\n",
        "        super(DecoderLayer, self).__init__()\n",
        "        self.mhma = MHMA(dmodel, dq, dk, dv, heads)  # Masked MHMA\n",
        "        self.layer_norm_1 = nn.LayerNorm(dmodel)\n",
        "        self.ffn = FFN(dmodel, d_ff)\n",
        "        self.layer_norm_2 = nn.LayerNorm(dmodel)\n",
        "\n",
        "    def forward(self, dec_rep, mask):\n",
        "        \"\"\"\n",
        "        dec_rep: (batch_size, seq_len, dmodel)\n",
        "        \"\"\"\n",
        "        # Multi-Head Masked Attention\n",
        "        mhma_output = self.mhma(dec_rep,dec_rep, dec_rep,  mask)\n",
        "        # Add & Norm\n",
        "        x = self.layer_norm_1(dec_rep + mhma_output)\n",
        "\n",
        "        # Feed-Forward Network\n",
        "        ffn_output = self.ffn(x)\n",
        "        # Add & Norm\n",
        "        out = self.layer_norm_2(x + ffn_output)\n",
        "\n",
        "        return out\n"
      ]
    },
    {
      "cell_type": "code",
      "execution_count": null,
      "metadata": {
        "id": "MuaoeZtd0htC"
      },
      "outputs": [],
      "source": [
        "class Embed(nn.Module):\n",
        "    def __init__(self, vocab_size, embed_dim, seed=70):\n",
        "        super(Embed, self).__init__()\n",
        "\n",
        "        # Set the seed for reproducibility\n",
        "        torch.manual_seed(70)\n",
        "\n",
        "        # Define the embedding layer\n",
        "        self.embed = nn.Embedding(vocab_size, embed_dim)  # Embedding for converting tokens to vectors\n",
        "\n",
        "        # Initialize the embedding weights using the seed\n",
        "        #nn.init.normal_(self.embed.weight, mean=0, std=0.1)  # You can use any initialization method here\n",
        "\n",
        "        # Define the positional encoding layer\n",
        "        self.pe = PositionalHead(embed_dim)  # Positional encoding to inject position information\n",
        "\n",
        "    def forward(self, x):\n",
        "        # Apply embedding and then positional encoding\n",
        "        out = self.pe(self.embed(x))  # First get the embeddings, then apply positional encoding\n",
        "        return out"
      ]
    },
    {
      "cell_type": "code",
      "execution_count": null,
      "metadata": {
        "id": "7Zufd26qUkLT"
      },
      "outputs": [],
      "source": []
    },
    {
      "cell_type": "code",
      "execution_count": null,
      "metadata": {
        "id": "2yma_Vbc0k9n"
      },
      "outputs": [],
      "source": [
        "class Decoder(nn.Module):\n",
        "\n",
        "  def __init__(self,vocab_size,dmodel,dq,dk,dv,d_ff,heads,num_layers=1):\n",
        "    super(Decoder,self).__init__()\n",
        "    self.embed_lookup = Embed(vocab_size,embed_dim)\n",
        "    self.dec_layers = nn.ModuleList(copy.deepcopy(DecoderLayer(dmodel,dq,dk,dv,d_ff,heads)) for i in range(num_layers))\n",
        "    self.predict = PredictionHead(dmodel,vocab_size)\n",
        "\n",
        "  def forward(self,input_ids, mask):\n",
        "    out = self.embed_lookup(input_ids)\n",
        "    for dec_layer in self.dec_layers:\n",
        "      out = dec_layer(out, mask)\n",
        "    out = self.predict(out)\n",
        "\n",
        "    return out"
      ]
    },
    {
      "cell_type": "code",
      "execution_count": null,
      "metadata": {
        "id": "M62_C8zS06ya"
      },
      "outputs": [],
      "source": [
        "model = Decoder(vocab_size,dmodel,dq,dk,dv,d_ff,heads)"
      ]
    },
    {
      "cell_type": "code",
      "execution_count": null,
      "metadata": {
        "id": "n4y0aNcr2j1e"
      },
      "outputs": [],
      "source": [
        "criterion = nn.CrossEntropyLoss()\n",
        "optimizer = optim.SGD(model.parameters(), lr=0.1)"
      ]
    },
    {
      "cell_type": "code",
      "execution_count": null,
      "metadata": {
        "id": "6uhXU0ae2rxU"
      },
      "outputs": [],
      "source": [
        "def train(input_ids, labels, epochs=1000):\n",
        "    # For recording loss if needed for plotting or diagnostics\n",
        "    loss_trace = []\n",
        "    model.train()\n",
        "    for epoch in range(epochs):\n",
        "        #model.train()  # Ensure the model is in training mode\n",
        "\n",
        "        # Forward pass: Get the model output\n",
        "        out = model(input_ids, mask=mask)\n",
        "\n",
        "        # Compute the loss (cross-entropy between predicted and actual labels)\n",
        "        loss = criterion(out.view(-1, vocab_size), labels.view(-1))  # Flatten for cross-entropy\n",
        "        #print(f\"Loss now is {loss}\")\n",
        "        loss_trace.append(loss.item())\n",
        "\n",
        "        # Backward pass: Compute gradients\n",
        "        loss.backward()\n",
        "\n",
        "        # Update model parameters\n",
        "        optimizer.step()\n",
        "\n",
        "        # Zero gradients for the next step\n",
        "        optimizer.zero_grad()\n",
        "\n",
        "        # Optionally print the loss every 100 epochs\n",
        "        #if (epoch + 1) % 100 == 0:\n",
        "            #print(f'Epoch [{epoch+1}/{epochs}], Loss: {loss.item():.4f}')\n",
        "\n",
        "    return loss_trace\n",
        "\n",
        "\n"
      ]
    },
    {
      "cell_type": "code",
      "execution_count": null,
      "metadata": {
        "id": "sHKeW38t2w4p"
      },
      "outputs": [],
      "source": [
        "# run the model for 10K epochs\n",
        "loss_trace=train(x,y,10000)"
      ]
    },
    {
      "cell_type": "code",
      "execution_count": null,
      "metadata": {
        "colab": {
          "base_uri": "https://localhost:8080/"
        },
        "id": "gPQQ__PQ6RVd",
        "outputId": "d132c3ce-eae2-43c3-ee1e-a6a5130ae74c"
      },
      "outputs": [
        {
          "name": "stdout",
          "output_type": "stream",
          "text": [
            "0.0861978530883789\n"
          ]
        }
      ],
      "source": [
        "print(loss_trace[-1])"
      ]
    },
    {
      "cell_type": "markdown",
      "metadata": {
        "id": "J9Sti5BtU03d"
      },
      "source": [
        "The loss is about 0.09 after 10K epochs"
      ]
    },
    {
      "cell_type": "code",
      "execution_count": null,
      "metadata": {
        "colab": {
          "base_uri": "https://localhost:8080/",
          "height": 472
        },
        "id": "miXVf09Y59ej",
        "outputId": "b28dd24f-f6d1-47e7-89ac-87595503c367"
      },
      "outputs": [
        {
          "data": {
            "image/png": "[encoded data removed]",
            "text/plain": [
              "<Figure size 640x480 with 1 Axes>"
            ]
          },
          "metadata": {},
          "output_type": "display_data"
        }
      ],
      "source": [
        "import matplotlib.pyplot as plt\n",
        "\n",
        "def plot_loss(loss_trace):\n",
        "    # Create a plot of loss over epochs\n",
        "    plt.plot(loss_trace, label='Training Loss')\n",
        "    plt.xlabel('Epochs')\n",
        "    plt.ylabel('Loss')\n",
        "    plt.title('Training Loss Over Epochs')\n",
        "    plt.legend()\n",
        "    plt.grid(True)\n",
        "    plt.show()\n",
        "\n",
        "# Example usage:\n",
        "# Assuming loss_trace is the list of loss values returned by your train function\n",
        "plot_loss(loss_trace)\n"
      ]
    },
    {
      "cell_type": "markdown",
      "metadata": {
        "id": "sSHVHX4J40eS"
      },
      "source": [
        "# Generate text"
      ]
    },
    {
      "cell_type": "code",
      "execution_count": null,
      "metadata": {
        "id": "jcTrU5CSuujt"
      },
      "outputs": [],
      "source": [
        "#### Not using any mask during inference\n",
        "\n",
        "@torch.inference_mode()\n",
        "def generate(model, prompt='<start>', max_words=25):\n",
        "    model.eval()\n",
        "\n",
        "    # Convert the list of tokens to token ids directly\n",
        "    input_ids = torch.tensor([vocab[token] for token in prompt], dtype=torch.long).unsqueeze(0)  # Shape: [1, seq_len]\n",
        "\n",
        "    # Start with the current input as the prompt\n",
        "    generated_ids = input_ids.clone()  # This keeps track of all the generated tokens\n",
        "    current_input = input_ids  # Initialize the model input as the prompt\n",
        "\n",
        "    # Step 2: Generate the sequence token by token\n",
        "    for i in range(max_words):\n",
        "        # Feed the current input into the model to get the output logits\n",
        "        logits = model(current_input, mask=None)  # Shape: [1, seq_len, vocab_size]\n",
        "\n",
        "        # Get the logits of the last token in the sequence to predict the next token\n",
        "        next_token_logits = logits[:, -1, :]  # Shape: [1, vocab_size]\n",
        "\n",
        "\n",
        "\n",
        "#When we use probabilities and torch.multinomilal, everytime it picks up a different token\n",
        "#and its not deterministic'''\n",
        "         # Convert logits to probabilities using softmax\n",
        "        #probabilities = torch.softmax(next_token_logits, dim=-1)  # Shape: [1, vocab_size]\n",
        "\n",
        "\n",
        "        # Sample a token from the probability distribution\n",
        "        #next_token_id = torch.multinomial(probabilities, num_samples=1)  # Shape: [1, 1]\n",
        "\n",
        "        next_token_id = torch.argmax(next_token_logits, dim=-1, keepdim=True)  # Use argmax instead of sampling\n",
        "\n",
        "\n",
        "        # Append the predicted token to the sequence\n",
        "        generated_ids = torch.cat([generated_ids, next_token_id], dim=1)  # Shape: [1, seq_len + 1]\n",
        "\n",
        "        # Update the input for the next prediction (using the entire generated sequence)\n",
        "        current_input = generated_ids  # Use the entire sequence of generated tokens\n",
        "\n",
        "        # Optionally stop if <end> token is generated\n",
        "        if next_token_id.item() == vocab['<end>']:\n",
        "            break  # Stop if <end> token is generated\n",
        "\n",
        "    # Convert the generated token IDs back to words (excluding <start>)\n",
        "    # Convert the generated token IDs back to words, excluding both <start> and <end>\n",
        "    generated_words = [\n",
        "        vocab.lookup_token(id.item()) for id in generated_ids[0]\n",
        "        if id.item() not in [vocab['<start>'], vocab['<end>']]\n",
        "    ]\n",
        "    return ' '.join(generated_words)"
      ]
    },
    {
      "cell_type": "code",
      "execution_count": null,
      "metadata": {
        "colab": {
          "base_uri": "https://localhost:8080/",
          "height": 35
        },
        "id": "6KXbgDuku-DN",
        "outputId": "ec553d9d-bbf9-4bcf-9422-970c0dd7a4c1"
      },
      "outputs": [
        {
          "data": {
            "text/plain": [
              "'<unk> s <unk> a <unk> <unk> <unk> , is more than a to influence , and . his guidance is a unique genre containing my version of'"
            ]
          },
          "execution_count": 70,
          "metadata": {},
          "output_type": "execute_result"
        }
      ],
      "source": [
        "generate(model, prompt='<start>', max_words=25)"
      ]
    },
    {
      "cell_type": "markdown",
      "metadata": {
        "id": "sTaqoJ_2VDDa"
      },
      "source": [
        "* Note the model has memorized the sentence from the training set. Given the start token, if your implementation reproduce a sentence as is in the training set, then your implementation is likely to be correct.\n",
        "* Suppose the prompt is `<start> best known`, then we expect the model to produce the first sentence as is"
      ]
    },
    {
      "cell_type": "code",
      "execution_count": null,
      "metadata": {
        "colab": {
          "base_uri": "https://localhost:8080/",
          "height": 53
        },
        "id": "2N_Shu7TXjAT",
        "outputId": "63bb49a3-8890-4b0c-8c4d-518f383ad75c"
      },
      "outputs": [
        {
          "data": {
            "text/plain": [
              "'best known for the invention of error correcting codes , he was a true polymath who applied his mathematical and problem-solving skills to numerous disciplines .'"
            ]
          },
          "execution_count": 71,
          "metadata": {},
          "output_type": "execute_result"
        }
      ],
      "source": [
        "generate(model,prompt=['<start>','best','known'],max_words=25)"
      ]
    },
    {
      "cell_type": "markdown",
      "metadata": {
        "id": "P1hK47T5X2fY"
      },
      "source": [
        "* Change the prompt"
      ]
    },
    {
      "cell_type": "code",
      "execution_count": null,
      "metadata": {
        "colab": {
          "base_uri": "https://localhost:8080/",
          "height": 35
        },
        "id": "Q6_WM1K2X7qZ",
        "outputId": "e4fd6cfc-40b2-4ad6-b40c-aac257085c1e"
      },
      "outputs": [
        {
          "data": {
            "text/plain": [
              "'reflecting on the significant benefits i received from hamming , i decided to develop a tribute to his legacy . there has not been a previous'"
            ]
          },
          "execution_count": 72,
          "metadata": {},
          "output_type": "execute_result"
        }
      ],
      "source": [
        "generate(model,prompt=['<start>','reflecting','on'],max_words=25)"
      ]
    }
  ],
  "metadata": {
    "colab": {
      "provenance": []
    },
    "kernelspec": {
      "display_name": "Python 3 (ipykernel)",
      "language": "python",
      "name": "python3"
    },
    "language_info": {
      "codemirror_mode": {
        "name": "ipython",
        "version": 3
      },
      "file_extension": ".py",
      "mimetype": "text/x-python",
      "name": "python",
      "nbconvert_exporter": "python",
      "pygments_lexer": "ipython3",
      "version": "3.11.7"
    }
  },
  "nbformat": 4,
  "nbformat_minor": 0
}