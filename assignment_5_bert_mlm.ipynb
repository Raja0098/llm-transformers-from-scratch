{
  "nbformat": 4,
  "nbformat_minor": 0,
  "metadata": {
    "colab": {
      "provenance": []
    },
    "kernelspec": {
      "name": "python3",
      "display_name": "Python 3"
    },
    "language_info": {
      "name": "python"
    }
  },
  "cells": [
    {
      "cell_type": "markdown",
      "source": [
        "* In this assignment you will be implementing an encoder model that uses just **Masked Language Modelling (MLM)** objective.\n",
        "* We will use a simple BERT with the following modifications\n",
        "  * We just use MLM (just masking words) and **skip** NSP (Next Sentence Prediction) objective\n",
        "  * Therefore, we won't use [CLS] token\n",
        "* Again, it is absolutely fine if your loss value does not match with the one given here.\n",
        "* Just ensure that the model overfits the training data\n",
        "* You may increase the size of the training data if you want to test your implementation. In that case, we recommend you to use the tokenizer library from Hugging face\n",
        "\n"
      ],
      "metadata": {
        "id": "1-RvnrMa1aBI"
      }
    },
    {
      "cell_type": "markdown",
      "source": [
        "# Installations"
      ],
      "metadata": {
        "id": "MYTmQEKOdNas"
      }
    },
    {
      "cell_type": "code",
      "execution_count": 1,
      "metadata": {
        "id": "cHiReOoRT-7C",
        "colab": {
          "base_uri": "https://localhost:8080/"
        },
        "outputId": "7138010d-42f7-4107-e51c-edaa6fccf813"
      },
      "outputs": [
        {
          "output_type": "stream",
          "name": "stdout",
          "text": [
            "Collecting torchdata==0.6.0\n",
            "  Downloading torchdata-0.6.0-cp310-cp310-manylinux_2_17_x86_64.manylinux2014_x86_64.whl.metadata (919 bytes)\n",
            "Requirement already satisfied: urllib3>=1.25 in /usr/local/lib/python3.10/dist-packages (from torchdata==0.6.0) (2.2.3)\n",
            "Requirement already satisfied: requests in /usr/local/lib/python3.10/dist-packages (from torchdata==0.6.0) (2.32.3)\n",
            "Collecting torch==2.0.0 (from torchdata==0.6.0)\n",
            "  Downloading torch-2.0.0-cp310-cp310-manylinux1_x86_64.whl.metadata (24 kB)\n",
            "Requirement already satisfied: filelock in /usr/local/lib/python3.10/dist-packages (from torch==2.0.0->torchdata==0.6.0) (3.16.1)\n",
            "Requirement already satisfied: typing-extensions in /usr/local/lib/python3.10/dist-packages (from torch==2.0.0->torchdata==0.6.0) (4.12.2)\n",
            "Requirement already satisfied: sympy in /usr/local/lib/python3.10/dist-packages (from torch==2.0.0->torchdata==0.6.0) (1.13.1)\n",
            "Requirement already satisfied: networkx in /usr/local/lib/python3.10/dist-packages (from torch==2.0.0->torchdata==0.6.0) (3.4.2)\n",
            "Requirement already satisfied: jinja2 in /usr/local/lib/python3.10/dist-packages (from torch==2.0.0->torchdata==0.6.0) (3.1.4)\n",
            "Collecting nvidia-cuda-nvrtc-cu11==11.7.99 (from torch==2.0.0->torchdata==0.6.0)\n",
            "  Downloading nvidia_cuda_nvrtc_cu11-11.7.99-2-py3-none-manylinux1_x86_64.whl.metadata (1.5 kB)\n",
            "Collecting nvidia-cuda-runtime-cu11==11.7.99 (from torch==2.0.0->torchdata==0.6.0)\n",
            "  Downloading nvidia_cuda_runtime_cu11-11.7.99-py3-none-manylinux1_x86_64.whl.metadata (1.6 kB)\n",
            "Collecting nvidia-cuda-cupti-cu11==11.7.101 (from torch==2.0.0->torchdata==0.6.0)\n",
            "  Downloading nvidia_cuda_cupti_cu11-11.7.101-py3-none-manylinux1_x86_64.whl.metadata (1.6 kB)\n",
            "Collecting nvidia-cudnn-cu11==8.5.0.96 (from torch==2.0.0->torchdata==0.6.0)\n",
            "  Downloading nvidia_cudnn_cu11-8.5.0.96-2-py3-none-manylinux1_x86_64.whl.metadata (1.6 kB)\n",
            "Collecting nvidia-cublas-cu11==11.10.3.66 (from torch==2.0.0->torchdata==0.6.0)\n",
            "  Downloading nvidia_cublas_cu11-11.10.3.66-py3-none-manylinux1_x86_64.whl.metadata (1.6 kB)\n",
            "Collecting nvidia-cufft-cu11==10.9.0.58 (from torch==2.0.0->torchdata==0.6.0)\n",
            "  Downloading nvidia_cufft_cu11-10.9.0.58-py3-none-manylinux2014_x86_64.whl.metadata (1.5 kB)\n",
            "Collecting nvidia-curand-cu11==10.2.10.91 (from torch==2.0.0->torchdata==0.6.0)\n",
            "  Downloading nvidia_curand_cu11-10.2.10.91-py3-none-manylinux1_x86_64.whl.metadata (1.6 kB)\n",
            "Collecting nvidia-cusolver-cu11==11.4.0.1 (from torch==2.0.0->torchdata==0.6.0)\n",
            "  Downloading nvidia_cusolver_cu11-11.4.0.1-2-py3-none-manylinux1_x86_64.whl.metadata (1.6 kB)\n",
            "Collecting nvidia-cusparse-cu11==11.7.4.91 (from torch==2.0.0->torchdata==0.6.0)\n",
            "  Downloading nvidia_cusparse_cu11-11.7.4.91-py3-none-manylinux1_x86_64.whl.metadata (1.6 kB)\n",
            "Collecting nvidia-nccl-cu11==2.14.3 (from torch==2.0.0->torchdata==0.6.0)\n",
            "  Downloading nvidia_nccl_cu11-2.14.3-py3-none-manylinux1_x86_64.whl.metadata (1.8 kB)\n",
            "Collecting nvidia-nvtx-cu11==11.7.91 (from torch==2.0.0->torchdata==0.6.0)\n",
            "  Downloading nvidia_nvtx_cu11-11.7.91-py3-none-manylinux1_x86_64.whl.metadata (1.7 kB)\n",
            "Collecting triton==2.0.0 (from torch==2.0.0->torchdata==0.6.0)\n",
            "  Downloading triton-2.0.0-1-cp310-cp310-manylinux2014_x86_64.manylinux_2_17_x86_64.whl.metadata (1.0 kB)\n",
            "Requirement already satisfied: setuptools in /usr/local/lib/python3.10/dist-packages (from nvidia-cublas-cu11==11.10.3.66->torch==2.0.0->torchdata==0.6.0) (75.1.0)\n",
            "Requirement already satisfied: wheel in /usr/local/lib/python3.10/dist-packages (from nvidia-cublas-cu11==11.10.3.66->torch==2.0.0->torchdata==0.6.0) (0.45.1)\n",
            "Requirement already satisfied: cmake in /usr/local/lib/python3.10/dist-packages (from triton==2.0.0->torch==2.0.0->torchdata==0.6.0) (3.30.5)\n",
            "Collecting lit (from triton==2.0.0->torch==2.0.0->torchdata==0.6.0)\n",
            "  Downloading lit-18.1.8-py3-none-any.whl.metadata (2.5 kB)\n",
            "Requirement already satisfied: charset-normalizer<4,>=2 in /usr/local/lib/python3.10/dist-packages (from requests->torchdata==0.6.0) (3.4.0)\n",
            "Requirement already satisfied: idna<4,>=2.5 in /usr/local/lib/python3.10/dist-packages (from requests->torchdata==0.6.0) (3.10)\n",
            "Requirement already satisfied: certifi>=2017.4.17 in /usr/local/lib/python3.10/dist-packages (from requests->torchdata==0.6.0) (2024.8.30)\n",
            "Requirement already satisfied: MarkupSafe>=2.0 in /usr/local/lib/python3.10/dist-packages (from jinja2->torch==2.0.0->torchdata==0.6.0) (3.0.2)\n",
            "Requirement already satisfied: mpmath<1.4,>=1.1.0 in /usr/local/lib/python3.10/dist-packages (from sympy->torch==2.0.0->torchdata==0.6.0) (1.3.0)\n",
            "Downloading torchdata-0.6.0-cp310-cp310-manylinux_2_17_x86_64.manylinux2014_x86_64.whl (4.6 MB)\n",
            "\u001b[2K   \u001b[90m━━━━━━━━━━━━━━━━━━━━━━━━━━━━━━━━━━━━━━━━\u001b[0m \u001b[32m4.6/4.6 MB\u001b[0m \u001b[31m7.3 MB/s\u001b[0m eta \u001b[36m0:00:00\u001b[0m\n",
            "\u001b[?25hDownloading torch-2.0.0-cp310-cp310-manylinux1_x86_64.whl (619.9 MB)\n",
            "\u001b[2K   \u001b[90m━━━━━━━━━━━━━━━━━━━━━━━━━━━━━━━━━━━━━━━━\u001b[0m \u001b[32m619.9/619.9 MB\u001b[0m \u001b[31m2.8 MB/s\u001b[0m eta \u001b[36m0:00:00\u001b[0m\n",
            "\u001b[?25hDownloading nvidia_cublas_cu11-11.10.3.66-py3-none-manylinux1_x86_64.whl (317.1 MB)\n",
            "\u001b[2K   \u001b[90m━━━━━━━━━━━━━━━━━━━━━━━━━━━━━━━━━━━━━━━━\u001b[0m \u001b[32m317.1/317.1 MB\u001b[0m \u001b[31m5.2 MB/s\u001b[0m eta \u001b[36m0:00:00\u001b[0m\n",
            "\u001b[?25hDownloading nvidia_cuda_cupti_cu11-11.7.101-py3-none-manylinux1_x86_64.whl (11.8 MB)\n",
            "\u001b[2K   \u001b[90m━━━━━━━━━━━━━━━━━━━━━━━━━━━━━━━━━━━━━━━━\u001b[0m \u001b[32m11.8/11.8 MB\u001b[0m \u001b[31m95.5 MB/s\u001b[0m eta \u001b[36m0:00:00\u001b[0m\n",
            "\u001b[?25hDownloading nvidia_cuda_nvrtc_cu11-11.7.99-2-py3-none-manylinux1_x86_64.whl (21.0 MB)\n",
            "\u001b[2K   \u001b[90m━━━━━━━━━━━━━━━━━━━━━━━━━━━━━━━━━━━━━━━━\u001b[0m \u001b[32m21.0/21.0 MB\u001b[0m \u001b[31m75.7 MB/s\u001b[0m eta \u001b[36m0:00:00\u001b[0m\n",
            "\u001b[?25hDownloading nvidia_cuda_runtime_cu11-11.7.99-py3-none-manylinux1_x86_64.whl (849 kB)\n",
            "\u001b[2K   \u001b[90m━━━━━━━━━━━━━━━━━━━━━━━━━━━━━━━━━━━━━━━━\u001b[0m \u001b[32m849.3/849.3 kB\u001b[0m \u001b[31m41.5 MB/s\u001b[0m eta \u001b[36m0:00:00\u001b[0m\n",
            "\u001b[?25hDownloading nvidia_cudnn_cu11-8.5.0.96-2-py3-none-manylinux1_x86_64.whl (557.1 MB)\n",
            "\u001b[2K   \u001b[90m━━━━━━━━━━━━━━━━━━━━━━━━━━━━━━━━━━━━━━━━\u001b[0m \u001b[32m557.1/557.1 MB\u001b[0m \u001b[31m3.2 MB/s\u001b[0m eta \u001b[36m0:00:00\u001b[0m\n",
            "\u001b[?25hDownloading nvidia_cufft_cu11-10.9.0.58-py3-none-manylinux2014_x86_64.whl (168.4 MB)\n",
            "\u001b[2K   \u001b[90m━━━━━━━━━━━━━━━━━━━━━━━━━━━━━━━━━━━━━━━━\u001b[0m \u001b[32m168.4/168.4 MB\u001b[0m \u001b[31m6.5 MB/s\u001b[0m eta \u001b[36m0:00:00\u001b[0m\n",
            "\u001b[?25hDownloading nvidia_curand_cu11-10.2.10.91-py3-none-manylinux1_x86_64.whl (54.6 MB)\n",
            "\u001b[2K   \u001b[90m━━━━━━━━━━━━━━━━━━━━━━━━━━━━━━━━━━━━━━━━\u001b[0m \u001b[32m54.6/54.6 MB\u001b[0m \u001b[31m12.8 MB/s\u001b[0m eta \u001b[36m0:00:00\u001b[0m\n",
            "\u001b[?25hDownloading nvidia_cusolver_cu11-11.4.0.1-2-py3-none-manylinux1_x86_64.whl (102.6 MB)\n",
            "\u001b[2K   \u001b[90m━━━━━━━━━━━━━━━━━━━━━━━━━━━━━━━━━━━━━━━━\u001b[0m \u001b[32m102.6/102.6 MB\u001b[0m \u001b[31m8.2 MB/s\u001b[0m eta \u001b[36m0:00:00\u001b[0m\n",
            "\u001b[?25hDownloading nvidia_cusparse_cu11-11.7.4.91-py3-none-manylinux1_x86_64.whl (173.2 MB)\n",
            "\u001b[2K   \u001b[90m━━━━━━━━━━━━━━━━━━━━━━━━━━━━━━━━━━━━━━━━\u001b[0m \u001b[32m173.2/173.2 MB\u001b[0m \u001b[31m5.6 MB/s\u001b[0m eta \u001b[36m0:00:00\u001b[0m\n",
            "\u001b[?25hDownloading nvidia_nccl_cu11-2.14.3-py3-none-manylinux1_x86_64.whl (177.1 MB)\n",
            "\u001b[2K   \u001b[90m━━━━━━━━━━━━━━━━━━━━━━━━━━━━━━━━━━━━━━━━\u001b[0m \u001b[32m177.1/177.1 MB\u001b[0m \u001b[31m6.9 MB/s\u001b[0m eta \u001b[36m0:00:00\u001b[0m\n",
            "\u001b[?25hDownloading nvidia_nvtx_cu11-11.7.91-py3-none-manylinux1_x86_64.whl (98 kB)\n",
            "\u001b[2K   \u001b[90m━━━━━━━━━━━━━━━━━━━━━━━━━━━━━━━━━━━━━━━━\u001b[0m \u001b[32m98.6/98.6 kB\u001b[0m \u001b[31m8.4 MB/s\u001b[0m eta \u001b[36m0:00:00\u001b[0m\n",
            "\u001b[?25hDownloading triton-2.0.0-1-cp310-cp310-manylinux2014_x86_64.manylinux_2_17_x86_64.whl (63.3 MB)\n",
            "\u001b[2K   \u001b[90m━━━━━━━━━━━━━━━━━━━━━━━━━━━━━━━━━━━━━━━━\u001b[0m \u001b[32m63.3/63.3 MB\u001b[0m \u001b[31m10.9 MB/s\u001b[0m eta \u001b[36m0:00:00\u001b[0m\n",
            "\u001b[?25hDownloading lit-18.1.8-py3-none-any.whl (96 kB)\n",
            "\u001b[2K   \u001b[90m━━━━━━━━━━━━━━━━━━━━━━━━━━━━━━━━━━━━━━━━\u001b[0m \u001b[32m96.4/96.4 kB\u001b[0m \u001b[31m7.4 MB/s\u001b[0m eta \u001b[36m0:00:00\u001b[0m\n",
            "\u001b[?25hInstalling collected packages: lit, nvidia-nvtx-cu11, nvidia-nccl-cu11, nvidia-cusparse-cu11, nvidia-curand-cu11, nvidia-cufft-cu11, nvidia-cuda-runtime-cu11, nvidia-cuda-nvrtc-cu11, nvidia-cuda-cupti-cu11, nvidia-cublas-cu11, nvidia-cusolver-cu11, nvidia-cudnn-cu11, triton, torch, torchdata\n",
            "  Attempting uninstall: torch\n",
            "    Found existing installation: torch 2.5.1+cu121\n",
            "    Uninstalling torch-2.5.1+cu121:\n",
            "      Successfully uninstalled torch-2.5.1+cu121\n",
            "\u001b[31mERROR: pip's dependency resolver does not currently take into account all the packages that are installed. This behaviour is the source of the following dependency conflicts.\n",
            "torchaudio 2.5.1+cu121 requires torch==2.5.1, but you have torch 2.0.0 which is incompatible.\n",
            "torchvision 0.20.1+cu121 requires torch==2.5.1, but you have torch 2.0.0 which is incompatible.\u001b[0m\u001b[31m\n",
            "\u001b[0mSuccessfully installed lit-18.1.8 nvidia-cublas-cu11-11.10.3.66 nvidia-cuda-cupti-cu11-11.7.101 nvidia-cuda-nvrtc-cu11-11.7.99 nvidia-cuda-runtime-cu11-11.7.99 nvidia-cudnn-cu11-8.5.0.96 nvidia-cufft-cu11-10.9.0.58 nvidia-curand-cu11-10.2.10.91 nvidia-cusolver-cu11-11.4.0.1 nvidia-cusparse-cu11-11.7.4.91 nvidia-nccl-cu11-2.14.3 nvidia-nvtx-cu11-11.7.91 torch-2.0.0 torchdata-0.6.0 triton-2.0.0\n",
            "Collecting portalocker==2.0.0\n",
            "  Downloading portalocker-2.0.0-py2.py3-none-any.whl.metadata (5.2 kB)\n",
            "Downloading portalocker-2.0.0-py2.py3-none-any.whl (11 kB)\n",
            "Installing collected packages: portalocker\n",
            "Successfully installed portalocker-2.0.0\n",
            "Collecting torchtext==0.15.1\n",
            "  Downloading torchtext-0.15.1-cp310-cp310-manylinux1_x86_64.whl.metadata (7.4 kB)\n",
            "Requirement already satisfied: tqdm in /usr/local/lib/python3.10/dist-packages (from torchtext==0.15.1) (4.66.6)\n",
            "Requirement already satisfied: requests in /usr/local/lib/python3.10/dist-packages (from torchtext==0.15.1) (2.32.3)\n",
            "Requirement already satisfied: torch==2.0.0 in /usr/local/lib/python3.10/dist-packages (from torchtext==0.15.1) (2.0.0)\n",
            "Requirement already satisfied: numpy in /usr/local/lib/python3.10/dist-packages (from torchtext==0.15.1) (1.26.4)\n",
            "Requirement already satisfied: torchdata==0.6.0 in /usr/local/lib/python3.10/dist-packages (from torchtext==0.15.1) (0.6.0)\n",
            "Requirement already satisfied: filelock in /usr/local/lib/python3.10/dist-packages (from torch==2.0.0->torchtext==0.15.1) (3.16.1)\n",
            "Requirement already satisfied: typing-extensions in /usr/local/lib/python3.10/dist-packages (from torch==2.0.0->torchtext==0.15.1) (4.12.2)\n",
            "Requirement already satisfied: sympy in /usr/local/lib/python3.10/dist-packages (from torch==2.0.0->torchtext==0.15.1) (1.13.1)\n",
            "Requirement already satisfied: networkx in /usr/local/lib/python3.10/dist-packages (from torch==2.0.0->torchtext==0.15.1) (3.4.2)\n",
            "Requirement already satisfied: jinja2 in /usr/local/lib/python3.10/dist-packages (from torch==2.0.0->torchtext==0.15.1) (3.1.4)\n",
            "Requirement already satisfied: nvidia-cuda-nvrtc-cu11==11.7.99 in /usr/local/lib/python3.10/dist-packages (from torch==2.0.0->torchtext==0.15.1) (11.7.99)\n",
            "Requirement already satisfied: nvidia-cuda-runtime-cu11==11.7.99 in /usr/local/lib/python3.10/dist-packages (from torch==2.0.0->torchtext==0.15.1) (11.7.99)\n",
            "Requirement already satisfied: nvidia-cuda-cupti-cu11==11.7.101 in /usr/local/lib/python3.10/dist-packages (from torch==2.0.0->torchtext==0.15.1) (11.7.101)\n",
            "Requirement already satisfied: nvidia-cudnn-cu11==8.5.0.96 in /usr/local/lib/python3.10/dist-packages (from torch==2.0.0->torchtext==0.15.1) (8.5.0.96)\n",
            "Requirement already satisfied: nvidia-cublas-cu11==11.10.3.66 in /usr/local/lib/python3.10/dist-packages (from torch==2.0.0->torchtext==0.15.1) (11.10.3.66)\n",
            "Requirement already satisfied: nvidia-cufft-cu11==10.9.0.58 in /usr/local/lib/python3.10/dist-packages (from torch==2.0.0->torchtext==0.15.1) (10.9.0.58)\n",
            "Requirement already satisfied: nvidia-curand-cu11==10.2.10.91 in /usr/local/lib/python3.10/dist-packages (from torch==2.0.0->torchtext==0.15.1) (10.2.10.91)\n",
            "Requirement already satisfied: nvidia-cusolver-cu11==11.4.0.1 in /usr/local/lib/python3.10/dist-packages (from torch==2.0.0->torchtext==0.15.1) (11.4.0.1)\n",
            "Requirement already satisfied: nvidia-cusparse-cu11==11.7.4.91 in /usr/local/lib/python3.10/dist-packages (from torch==2.0.0->torchtext==0.15.1) (11.7.4.91)\n",
            "Requirement already satisfied: nvidia-nccl-cu11==2.14.3 in /usr/local/lib/python3.10/dist-packages (from torch==2.0.0->torchtext==0.15.1) (2.14.3)\n",
            "Requirement already satisfied: nvidia-nvtx-cu11==11.7.91 in /usr/local/lib/python3.10/dist-packages (from torch==2.0.0->torchtext==0.15.1) (11.7.91)\n",
            "Requirement already satisfied: triton==2.0.0 in /usr/local/lib/python3.10/dist-packages (from torch==2.0.0->torchtext==0.15.1) (2.0.0)\n",
            "Requirement already satisfied: urllib3>=1.25 in /usr/local/lib/python3.10/dist-packages (from torchdata==0.6.0->torchtext==0.15.1) (2.2.3)\n",
            "Requirement already satisfied: setuptools in /usr/local/lib/python3.10/dist-packages (from nvidia-cublas-cu11==11.10.3.66->torch==2.0.0->torchtext==0.15.1) (75.1.0)\n",
            "Requirement already satisfied: wheel in /usr/local/lib/python3.10/dist-packages (from nvidia-cublas-cu11==11.10.3.66->torch==2.0.0->torchtext==0.15.1) (0.45.1)\n",
            "Requirement already satisfied: cmake in /usr/local/lib/python3.10/dist-packages (from triton==2.0.0->torch==2.0.0->torchtext==0.15.1) (3.30.5)\n",
            "Requirement already satisfied: lit in /usr/local/lib/python3.10/dist-packages (from triton==2.0.0->torch==2.0.0->torchtext==0.15.1) (18.1.8)\n",
            "Requirement already satisfied: charset-normalizer<4,>=2 in /usr/local/lib/python3.10/dist-packages (from requests->torchtext==0.15.1) (3.4.0)\n",
            "Requirement already satisfied: idna<4,>=2.5 in /usr/local/lib/python3.10/dist-packages (from requests->torchtext==0.15.1) (3.10)\n",
            "Requirement already satisfied: certifi>=2017.4.17 in /usr/local/lib/python3.10/dist-packages (from requests->torchtext==0.15.1) (2024.8.30)\n",
            "Requirement already satisfied: MarkupSafe>=2.0 in /usr/local/lib/python3.10/dist-packages (from jinja2->torch==2.0.0->torchtext==0.15.1) (3.0.2)\n",
            "Requirement already satisfied: mpmath<1.4,>=1.1.0 in /usr/local/lib/python3.10/dist-packages (from sympy->torch==2.0.0->torchtext==0.15.1) (1.3.0)\n",
            "Downloading torchtext-0.15.1-cp310-cp310-manylinux1_x86_64.whl (2.0 MB)\n",
            "\u001b[2K   \u001b[90m━━━━━━━━━━━━━━━━━━━━━━━━━━━━━━━━━━━━━━━━\u001b[0m \u001b[32m2.0/2.0 MB\u001b[0m \u001b[31m40.4 MB/s\u001b[0m eta \u001b[36m0:00:00\u001b[0m\n",
            "\u001b[?25hInstalling collected packages: torchtext\n",
            "Successfully installed torchtext-0.15.1\n"
          ]
        }
      ],
      "source": [
        "!pip install torchdata==0.6.0 # to be compatible with torch 2.0\n",
        "!pip install portalocker==2.0.0\n",
        "!pip install -U torchtext==0.15.1"
      ]
    },
    {
      "cell_type": "markdown",
      "source": [
        "# Common Imports"
      ],
      "metadata": {
        "id": "MxKr-cWAdQ3W"
      }
    },
    {
      "cell_type": "code",
      "source": [
        "import torch\n",
        "from torch import Tensor\n",
        "\n",
        "import torch.nn as nn\n",
        "from torch.nn import Parameter\n",
        "import torch.nn.functional as F\n",
        "from torch.nn.functional import one_hot\n",
        "\n",
        "import torch.optim as optim\n",
        "\n",
        "#text lib\n",
        "import torchtext\n",
        "\n",
        "# tokenizer\n",
        "from torchtext.data.utils import get_tokenizer\n",
        "\n",
        "#build vocabulary\n",
        "from torchtext.vocab import vocab\n",
        "from torchtext.vocab import build_vocab_from_iterator\n",
        "\n",
        "# get input_ids (numericalization)\n",
        "from torchtext.transforms import VocabTransform\n",
        "\n",
        "# get embeddings\n",
        "from torch.nn import Embedding\n",
        "\n",
        "from  pprint import pprint\n",
        "from yaml import safe_load\n",
        "import copy\n",
        "import numpy as np"
      ],
      "metadata": {
        "id": "kBtpv-ildSLk"
      },
      "execution_count": 4,
      "outputs": []
    },
    {
      "cell_type": "code",
      "source": [
        "import nltk\n",
        "nltk.download('punkt')"
      ],
      "metadata": {
        "id": "yqPv7AWKfdUW",
        "colab": {
          "base_uri": "https://localhost:8080/"
        },
        "outputId": "f652a1fd-b3fc-429e-d997-56716d128b24"
      },
      "execution_count": 5,
      "outputs": [
        {
          "output_type": "stream",
          "name": "stderr",
          "text": [
            "[nltk_data] Downloading package punkt to /root/nltk_data...\n",
            "[nltk_data]   Package punkt is already up-to-date!\n"
          ]
        },
        {
          "output_type": "execute_result",
          "data": {
            "text/plain": [
              "True"
            ]
          },
          "metadata": {},
          "execution_count": 5
        }
      ]
    },
    {
      "cell_type": "markdown",
      "source": [
        "# Tokenize the given text"
      ],
      "metadata": {
        "id": "Qloiz5rGfvA6"
      }
    },
    {
      "cell_type": "code",
      "source": [
        "batch_size = 10"
      ],
      "metadata": {
        "id": "-uEjm4IBfv_g"
      },
      "execution_count": 6,
      "outputs": []
    },
    {
      "cell_type": "code",
      "source": [
        "class Tokenizer(object):\n",
        "\n",
        "  def __init__(self,text):\n",
        "    self.text = text\n",
        "    self.word_tokenizer = get_tokenizer(tokenizer=\"basic_english\",language='en')\n",
        "    self.vocab_size = None\n",
        "\n",
        "  def get_tokens(self):\n",
        "    for sentence in self.text.strip().split('\\n'):\n",
        "      yield self.word_tokenizer(sentence)\n",
        "\n",
        "  def build_vocab(self):\n",
        "    v = build_vocab_from_iterator(self.get_tokens(),\n",
        "                                  min_freq=1,specials=['<unk>','<mask>'])\n",
        "    v.set_default_index(v['<unk>']) # index of OOV\n",
        "    self.vocab_size = len(v)\n",
        "    return v\n",
        "\n",
        "  def token_ids(self):\n",
        "    v = self.build_vocab()\n",
        "    vt = VocabTransform(v)\n",
        "    num_tokens = len(self.word_tokenizer(self.text))\n",
        "    max_seq_len = np.ceil(num_tokens/batch_size)\n",
        "    data = torch.zeros(size=(1,num_tokens))\n",
        "    data = vt(self.word_tokenizer(self.text))\n",
        "    data = torch.tensor(data,dtype=torch.int64)\n",
        "    return data.reshape(batch_size,torch.tensor(max_seq_len,dtype=torch.int64))\n",
        "\n"
      ],
      "metadata": {
        "id": "grprn0yuf5NF"
      },
      "execution_count": 7,
      "outputs": []
    },
    {
      "cell_type": "code",
      "source": [
        "text = \"\"\"Best known for the invention of Error Correcting Codes, he was a true polymath who applied his mathematical and problem-solving skills to numerous disciplines.\n",
        "Reflecting on the significant benefits I received from Hamming, I decided to develop a tribute to his legacy. There has not been a previous biography of Hamming, and the few articles about him restate known facts and assumptions and leave us with open questions.\n",
        "One thought drove me as I developed this legacy project: An individual's legacy is more than a list of their attempts and accomplishments. Their tribute should also reveal the succeeding generations they inspired and enabled and what each attempted and achieved.\n",
        "This book is a unique genre containing my version of a biography that intertwines the story \"of a life\" and a multi-player memoir with particular events and turning points recalled by those, including me, who he inspired and enabled.\n",
        "Five years of research uncovered the people, places, opportunities, events, and influences that shaped Hamming. I discovered unpublished information, stories, photographs, videos, and personal remembrances to chronicle his life, which helped me put Hamming's\n",
        "legacy in the context I wanted.The result demonstrates many exceptional qualities, including his noble pursuit of excellence and helping others. Hamming paid attention to the details, his writings continue to influence, and his guidance is a timeless gift to the world.\n",
        "This biography is part of \"\"\""
      ],
      "metadata": {
        "id": "70QkLj9ageQu"
      },
      "execution_count": 8,
      "outputs": []
    },
    {
      "cell_type": "code",
      "source": [
        "Tk = Tokenizer(text)"
      ],
      "metadata": {
        "id": "GC3n-zP3t_I9"
      },
      "execution_count": 9,
      "outputs": []
    },
    {
      "cell_type": "code",
      "source": [
        "input_ids = Tk.token_ids()\n",
        "print(input_ids.shape, input_ids)"
      ],
      "metadata": {
        "id": "LMculIZuu6Eo",
        "colab": {
          "base_uri": "https://localhost:8080/"
        },
        "outputId": "57913c3b-c502-4147-e91e-9197c24631a1"
      },
      "execution_count": 10,
      "outputs": [
        {
          "output_type": "stream",
          "name": "stdout",
          "text": [
            "torch.Size([10, 26]) tensor([[ 45,  23,  69,   5,  85,   7,  63,  53,  49,   2,  20, 148,   6, 139,\n",
            "         110,  29,  36,   9,  89,   3, 112, 129,   8,  96,  59,   4],\n",
            "        [120,  97,   5, 128,  44,  11, 119,  70,  10,   2,  11,  54,   8,  57,\n",
            "           6,  28,   8,   9,  13,   4, 134,  75,  95,  43,   6, 111],\n",
            "        [ 14,   7,  10,   2,   3,   5,  67,  37,  31,  78, 123,  23,  66,   3,\n",
            "          39,   3,  86, 144,  30,  99, 117,   4,  98, 137,  61,  15],\n",
            "        [ 38,  11,  58,  16,  13, 113,  35,  80,  17,  25,  13,  12,  91, 133,\n",
            "           6,  87,   7,  27,  41,   3,  32,   4,  27,  28, 127,  34],\n",
            "        [125,   5, 132,  71, 135,  22,   3,  18,   3, 149,  62,  40,   3,  33,\n",
            "           4,  16,  46,  12,   6, 142,  72,  50,  93, 145,   7,   6],\n",
            "        [ 14,  26,  84,   5, 131,   7,   6,  24,   3,   6,  92,  90,  30, 104,\n",
            "          19,   3, 140, 109, 118,  47, 136,   2,  21,  15,   2,  29],\n",
            "        [ 20,  22,   3,  18,   4,  68, 153,   7, 122, 141,   5, 105,   2, 108,\n",
            "           2, 100,   2,  19,   2,   3,  82,  26, 126,  10,   4,  11],\n",
            "        [ 60, 143,  83,   2, 130,   2, 107,   2, 146,   2,   3, 106, 121,   8,\n",
            "          48,   9,  24,   2, 150,  76,  15, 115,  10,  17,  25,  13],\n",
            "        [ 79,   5,  51,  11, 147,   4,   5, 124,  55,  88,  65, 116,   2,  21,\n",
            "           9,  94, 114,   7,  64,   3,  77, 101,   4,  10, 102,  42],\n",
            "        [  8,   5,  56,   2,   9, 152,  52,   8,  81,   2,   3,   9,  74,  12,\n",
            "           6, 138,  73,   8,   5, 151,   4,  16,  14,  12, 103,   7]])\n"
          ]
        }
      ]
    },
    {
      "cell_type": "markdown",
      "source": [
        "* We need to mask some words randomly based on the mask probability\n",
        "* The token id for the [mask] is 1\n",
        "* The function given below takes in the input ids and replaces some of the ids by 1 (token id for the [mask])\n",
        "* Since the loss is computed only over the predictions of masked tokens, we replace all non-masked input ids by -100"
      ],
      "metadata": {
        "id": "6LLxZQox6XrG"
      }
    },
    {
      "cell_type": "code",
      "source": [
        "def getdata(ip_ids,mask_token_id,mask_prob=0.2):\n",
        "  masked_ids = copy.deepcopy(ip_ids)\n",
        "  mask_random_idx = torch.randn_like(ip_ids,dtype=torch.float64)>(1-mask_prob)\n",
        "  masked_ids[mask_random_idx]=mask_token_id\n",
        "  labels = copy.deepcopy(ip_ids)\n",
        "  neg_mask = ~mask_random_idx\n",
        "  labels[neg_mask]=torch.tensor(-100)\n",
        "  return (masked_ids,labels,mask_random_idx)"
      ],
      "metadata": {
        "id": "Cpo-UM-Dvu7b"
      },
      "execution_count": 11,
      "outputs": []
    },
    {
      "cell_type": "code",
      "source": [
        "mask_token_id = torch.tensor([1],dtype=torch.int64)\n",
        "x,y,mask_mtx = getdata(input_ids,mask_token_id)\n",
        "print(x[0,:],'\\n',y[0,:], '\\n', mask_mtx[0:])"
      ],
      "metadata": {
        "id": "nc9TtOBmxAiY",
        "colab": {
          "base_uri": "https://localhost:8080/"
        },
        "outputId": "948b8d67-7759-46c3-8dbd-e520342bdc7e"
      },
      "execution_count": 12,
      "outputs": [
        {
          "output_type": "stream",
          "name": "stdout",
          "text": [
            "tensor([ 45,   1,  69,   5,  85,   7,  63,  53,  49,   1,   1, 148,   6,   1,\n",
            "        110,  29,  36,   1,  89,   3, 112,   1,   8,  96,  59,   4]) \n",
            " tensor([-100,   23, -100, -100, -100, -100, -100, -100, -100,    2,   20, -100,\n",
            "        -100,  139, -100, -100, -100,    9, -100, -100, -100,  129, -100, -100,\n",
            "        -100, -100]) \n",
            " tensor([[False,  True, False, False, False, False, False, False, False,  True,\n",
            "          True, False, False,  True, False, False, False,  True, False, False,\n",
            "         False,  True, False, False, False, False],\n",
            "        [False, False,  True, False,  True, False,  True, False, False, False,\n",
            "         False, False,  True, False,  True, False, False, False, False,  True,\n",
            "          True, False, False, False, False, False],\n",
            "        [False, False, False, False, False, False, False,  True,  True, False,\n",
            "         False,  True, False, False, False,  True,  True, False, False, False,\n",
            "         False, False,  True, False, False, False],\n",
            "        [False, False, False, False, False, False, False, False, False, False,\n",
            "         False,  True, False, False,  True, False, False, False, False, False,\n",
            "         False, False, False, False, False, False],\n",
            "        [ True,  True,  True, False, False, False, False, False, False, False,\n",
            "         False, False,  True, False, False,  True, False, False, False, False,\n",
            "         False, False, False,  True, False, False],\n",
            "        [False, False, False, False, False, False, False, False, False, False,\n",
            "         False, False,  True, False,  True,  True, False, False, False, False,\n",
            "          True, False, False, False, False, False],\n",
            "        [False, False, False, False, False, False,  True, False, False,  True,\n",
            "         False, False,  True, False, False, False, False,  True, False, False,\n",
            "         False, False, False,  True, False, False],\n",
            "        [ True, False,  True, False, False, False, False,  True, False, False,\n",
            "         False,  True, False, False, False, False, False, False, False, False,\n",
            "          True, False, False, False, False,  True],\n",
            "        [False, False, False, False, False,  True, False, False, False,  True,\n",
            "         False, False, False, False, False, False, False, False, False, False,\n",
            "         False, False, False, False, False, False],\n",
            "        [False, False, False, False, False, False,  True,  True, False, False,\n",
            "         False, False, False, False, False, False, False, False, False, False,\n",
            "         False, False, False, False, False, False]])\n"
          ]
        }
      ]
    },
    {
      "cell_type": "markdown",
      "source": [
        "* Now we have our inputs and labels stored in x and y,respectively\n",
        "* It is always good to test the implementation by displaying the input sentence with masked tokens"
      ],
      "metadata": {
        "id": "1DmbfCrB78OC"
      }
    },
    {
      "cell_type": "code",
      "source": [
        "v = Tk.build_vocab()\n",
        "words = []\n",
        "for idx in x[0,:]:\n",
        "  words.append(v.vocab.get_itos()[idx.item()])\n",
        "print(' '.join(words))"
      ],
      "metadata": {
        "colab": {
          "base_uri": "https://localhost:8080/"
        },
        "id": "t7ikvzvxG91S",
        "outputId": "c7990355-980d-4f22-cd45-8ad3fcd5a2b4"
      },
      "execution_count": 13,
      "outputs": [
        {
          "output_type": "stream",
          "name": "stdout",
          "text": [
            "best <mask> for the invention of error correcting codes <mask> <mask> was a <mask> polymath who applied <mask> mathematical and problem-solving <mask> to numerous disciplines .\n"
          ]
        }
      ]
    },
    {
      "cell_type": "markdown",
      "source": [
        "* Also display the words that are masked"
      ],
      "metadata": {
        "id": "dHn0Qj5a8UKw"
      }
    },
    {
      "cell_type": "code",
      "source": [
        "words = []\n",
        "for idx in y[0,:]:\n",
        "  if idx != -100:\n",
        "    words.append(v.vocab.get_itos()[idx.item()])\n",
        "print(' '.join(words))"
      ],
      "metadata": {
        "colab": {
          "base_uri": "https://localhost:8080/"
        },
        "id": "AKR0ODDwIC42",
        "outputId": "cd441646-1ae4-48d8-d676-29c366c0eabb"
      },
      "execution_count": 14,
      "outputs": [
        {
          "output_type": "stream",
          "name": "stdout",
          "text": [
            "known , he true his skills\n"
          ]
        }
      ]
    },
    {
      "cell_type": "markdown",
      "source": [
        "# Configuration"
      ],
      "metadata": {
        "id": "6xQJpejJyO3p"
      }
    },
    {
      "cell_type": "code",
      "source": [
        "vocab_size = Tk.vocab_size\n",
        "seq_len = x.shape[1]\n",
        "embed_dim = 32\n",
        "dmodel = embed_dim\n",
        "dq = torch.tensor(4)\n",
        "dk = torch.tensor(4)\n",
        "dv = torch.tensor(4)\n",
        "heads = torch.tensor(8)\n",
        "d_ff = 4*dmodel"
      ],
      "metadata": {
        "id": "IStSC20XyQeS"
      },
      "execution_count": 15,
      "outputs": []
    },
    {
      "cell_type": "markdown",
      "source": [
        "# Model"
      ],
      "metadata": {
        "id": "LkR1OK06xzOC"
      }
    },
    {
      "cell_type": "code",
      "source": [
        "class MHA(nn.Module):\n",
        "  def __init__(self, dmodel, dq, dk, dv,heads):\n",
        "    super(MHA, self).__init__()\n",
        "    self.d_model = dmodel\n",
        "    self.heads = heads\n",
        "    self.W_q = nn.Parameter(torch.randn((heads, dmodel, dq),generator = torch.manual_seed(43)))\n",
        "    self.W_k = nn.Parameter(torch.randn((heads, dmodel, dk),generator = torch.manual_seed(44)))\n",
        "    self.W_v = nn.Parameter(torch.randn((heads, dmodel, dv),generator = torch.manual_seed(45)))\n",
        "    self.W_o = nn.Parameter(torch.randn((dmodel, dmodel),generator = torch.manual_seed(46)))\n",
        "\n",
        "  def forward(self, Q, K, V):\n",
        "    BS, T, _ = Q.shape\n",
        "    #print(Q.shape, self.W_q.shape)\n",
        "    Q = torch.einsum('BTM, HMQ -> BHTQ', Q, self.W_q)\n",
        "    K = torch.einsum('BTM, HMK -> BHTK', K, self.W_k)\n",
        "    V = torch.einsum('BTM, HMV -> BHTV', V, self.W_v)\n",
        "    attn_score = torch.matmul(F.softmax((torch.matmul(Q,torch.transpose(K, -2, -1)))/math.sqrt(dq), dim = -1), V)\n",
        "    combined_attn = attn_score.permute(0,2,1,3).contiguous().view(BS, T, -1)\n",
        "    out = torch.matmul(combined_attn, self.W_o)\n",
        "    #print(f'Output after MHMA : {out.shape}')\n",
        "    return out\n",
        "\n",
        "class FFN(nn.Module):\n",
        "  def __init__(self, dmodel, d_ff):\n",
        "    super(FFN, self).__init__()\n",
        "    self.W1 = nn.Parameter(torch.randn((dmodel, d_ff), generator = torch.manual_seed(47))) #Weights\n",
        "    self.b1 = nn.Parameter(torch.randn((d_ff), generator = torch.manual_seed(10))) #Bias\n",
        "    self.W2 = nn.Parameter(torch.randn((d_ff, dmodel), generator = torch.manual_seed(48))) #Weights\n",
        "    self.b2 = nn.Parameter(torch.randn((dmodel), generator = torch.manual_seed(10))) #Bias\n",
        "    self.relu = nn.ReLU()\n",
        "\n",
        "  def forward(self, x):\n",
        "    out = torch.einsum('BTM, MH -> BTH', x, self.W1) + self.b1\n",
        "    out = self.relu(out)\n",
        "    out = torch.einsum('BTM, MH -> BTH', out, self.W2) + self.b2\n",
        "    #print(f'Output after FFN : {out.shape}')\n",
        "    return out\n",
        "\n",
        "\n",
        "class Prediction(nn.Module):\n",
        "  def __init__(self, dmodel, trgt_vocab_size):\n",
        "    super(Prediction, self).__init__()\n",
        "    self.W = nn.Parameter(torch.randn((dmodel, trgt_vocab_size), generator = torch.manual_seed(49)))\n",
        "    self.b = nn.Parameter(torch.randn((trgt_vocab_size), generator = torch.manual_seed(10)))\n",
        "\n",
        "  def forward(self, x):\n",
        "    out = torch.matmul(x, self.W) + self.b\n",
        "    #print(f'Output shape after Output Layer: {out.shape}')\n",
        "    return out\n",
        "\n",
        "\n",
        "\n",
        "class PositionalEncoding(nn.Module):\n",
        "  def __init__(self,d_model, max_seq_len = 512):\n",
        "      super(PositionalEncoding, self).__init__()\n",
        "\n",
        "      #compute it in the log space\n",
        "      pe = torch.zeros(max_seq_len, dmodel)\n",
        "      position = torch.arange(0, max_seq_len, dtype=torch.float).unsqueeze(1)\n",
        "      div_term = torch.exp(torch.arange(0, dmodel, 2).float() * (-torch.log(torch.tensor(10000.0)) / dmodel))\n",
        "      pe[:, 0::2] = torch.sin(position * div_term)\n",
        "      pe[:, 1::2] = torch.cos(position * div_term)\n",
        "      self.register_buffer('pe', pe.unsqueeze(0))\n",
        "\n",
        "  def forward(self, x):\n",
        "      # add positional embedding\n",
        "      x = x + self.pe[:, :x.size(1)]\n",
        "      return x\n",
        "\n",
        "\n",
        "class Embed(nn.Module):\n",
        "  def __init__(self,vocab_size,embed_dim):\n",
        "    super(Embed,self).__init__()\n",
        "    self.embed = nn.Embedding(num_embeddings = vocab_size, embedding_dim = dmodel, _weight = torch.randn((vocab_size, dmodel), generator=torch.manual_seed(70)) ) #None # seed 70\n",
        "    self.pe = PositionalEncoding(dmodel)\n",
        "\n",
        "  def forward(self,x):\n",
        "    out = self.pe(self.embed(x))\n",
        "    return out\n",
        "\n",
        "\n",
        "class EncoderLayer(nn.Module):\n",
        "  def __init__(self,dmodel,dq,dk,dv,d_ff,heads):\n",
        "    super(EncoderLayer,self).__init__()\n",
        "    self.mha = MHA(dmodel,dq,dk,dv,heads)\n",
        "    self.layer_norm_1 = torch.nn.LayerNorm(dmodel)\n",
        "    self.layer_norm_2 = torch.nn.LayerNorm(dmodel)\n",
        "    self.ffn = FFN(dmodel,d_ff)\n",
        "\n",
        "  def forward(self,x):\n",
        "    out = self.mha(x,x,x)\n",
        "    out = self.layer_norm_1(out+x)\n",
        "    out = self.layer_norm_2(self.ffn(out)+out)\n",
        "    return out"
      ],
      "metadata": {
        "id": "lwKEEtfXxWg0"
      },
      "execution_count": 16,
      "outputs": []
    },
    {
      "cell_type": "code",
      "source": [
        "class BERT(nn.Module):\n",
        "\n",
        "  def __init__(self,vocab_size,dmodel,dq,dk,dv,d_ff,heads,num_layers=1):\n",
        "    super(BERT,self).__init__()\n",
        "    self.embed_lookup = Embed(vocab_size,embed_dim)\n",
        "    self.enc_layers = nn.ModuleList(copy.deepcopy(EncoderLayer(dmodel,dq,dk,dv,d_ff,heads)) for i in range(num_layers))\n",
        "    self.predict = Prediction(dmodel,vocab_size)\n",
        "\n",
        "  def forward(self,input_ids):\n",
        "    x = self.embed_lookup(input_ids)\n",
        "    for enc_layer in self.enc_layers:\n",
        "      x = enc_layer(x)\n",
        "    out = self.predict(x)\n",
        "    return out"
      ],
      "metadata": {
        "id": "uSzvePtJyvWj"
      },
      "execution_count": 17,
      "outputs": []
    },
    {
      "cell_type": "code",
      "source": [
        "model = BERT(vocab_size,dmodel,dq,dk,dv,d_ff,heads,num_layers=1)\n",
        "optimizer = optim.SGD(model.parameters(),lr=0.01)\n",
        "criterion = nn.CrossEntropyLoss()"
      ],
      "metadata": {
        "id": "gwapWxHv2Djs"
      },
      "execution_count": 18,
      "outputs": []
    },
    {
      "cell_type": "markdown",
      "source": [
        "# Training the model"
      ],
      "metadata": {
        "id": "HxBH1VRCB2IZ"
      }
    },
    {
      "cell_type": "code",
      "source": [
        "import math\n",
        "import matplotlib.pyplot as plt\n",
        "\n",
        "def train(token_ids, labels, epochs=1000):\n",
        "    loss_trace = []\n",
        "    for epoch in range(epochs):\n",
        "        out = model(token_ids)\n",
        "        out = out.view(-1, vocab_size)\n",
        "\n",
        "        target = labels.view(-1)\n",
        "        valid_mask = target != -100  # Mask to exclude padding tokens\n",
        "        target = target[valid_mask]\n",
        "        out = out[valid_mask]\n",
        "\n",
        "        # Compute loss\n",
        "        loss = criterion(out, target.type(torch.LongTensor))\n",
        "        loss_trace.append(loss.item())\n",
        "\n",
        "        # Print loss every 1000 epochs\n",
        "        if (epoch + 1) % 1000 == 0:\n",
        "            print(f'Epoch: {epoch + 1} Loss: {loss.item()}')\n",
        "\n",
        "        # Backpropagation and optimization\n",
        "        loss.backward()\n",
        "        optimizer.step()\n",
        "        optimizer.zero_grad()\n",
        "\n",
        "    # Visualize loss\n",
        "    plt.figure(figsize=(10, 6))\n",
        "    plt.plot(range(1, epochs + 1), loss_trace, label='Training Loss')\n",
        "    plt.xlabel('Epochs')\n",
        "    plt.ylabel('Loss')\n",
        "    plt.title('Training Loss Over Epochs')\n",
        "    plt.legend()\n",
        "    plt.grid()\n",
        "    plt.show()\n"
      ],
      "metadata": {
        "id": "an64oZq96wvP"
      },
      "execution_count": 19,
      "outputs": []
    },
    {
      "cell_type": "code",
      "source": [
        "train(x,y,20000)"
      ],
      "metadata": {
        "id": "GgFE9rBKCEn7",
        "colab": {
          "base_uri": "https://localhost:8080/",
          "height": 911
        },
        "outputId": "c86cc258-ed3b-4cf9-c70a-21df94813add"
      },
      "execution_count": 20,
      "outputs": [
        {
          "output_type": "stream",
          "name": "stdout",
          "text": [
            "Epoch: 1000 Loss: 0.33711302280426025\n",
            "Epoch: 2000 Loss: 0.0641457810997963\n",
            "Epoch: 3000 Loss: 0.025812903419137\n",
            "Epoch: 4000 Loss: 0.015111851505935192\n",
            "Epoch: 5000 Loss: 0.01032387837767601\n",
            "Epoch: 6000 Loss: 0.007766495458781719\n",
            "Epoch: 7000 Loss: 0.006170845590531826\n",
            "Epoch: 8000 Loss: 0.00509690772742033\n",
            "Epoch: 9000 Loss: 0.004323770757764578\n",
            "Epoch: 10000 Loss: 0.0037424706388264894\n",
            "Epoch: 11000 Loss: 0.00328437308780849\n",
            "Epoch: 12000 Loss: 0.0029226928018033504\n",
            "Epoch: 13000 Loss: 0.0026294225826859474\n",
            "Epoch: 14000 Loss: 0.002385159954428673\n",
            "Epoch: 15000 Loss: 0.0021803309209644794\n",
            "Epoch: 16000 Loss: 0.002006445312872529\n",
            "Epoch: 17000 Loss: 0.001857340452261269\n",
            "Epoch: 18000 Loss: 0.0017277722945436835\n",
            "Epoch: 19000 Loss: 0.0016141940141096711\n",
            "Epoch: 20000 Loss: 0.0015134247951209545\n"
          ]
        },
        {
          "output_type": "display_data",
          "data": {
            "text/plain": [
              "<Figure size 1000x600 with 1 Axes>"
            ],
            "image/png": "[encoded data removed]"
          },
          "metadata": {}
        }
      ]
    },
    {
      "cell_type": "markdown",
      "source": [
        "* The loss have came down around 0.0015 after 20000 epochs.\n",
        "* Let us predict the masked tokens for all the samples in the tiny dataset"
      ],
      "metadata": {
        "id": "bm6javO6DfOy"
      }
    },
    {
      "cell_type": "code",
      "source": [
        "with torch.inference_mode():\n",
        "  predictions = torch.argmax(model(x),dim=-1)"
      ],
      "metadata": {
        "id": "sHyMJYvVCEu2"
      },
      "execution_count": 21,
      "outputs": []
    },
    {
      "cell_type": "code",
      "source": [
        "v = Tk.build_vocab()\n",
        "masked_words = []\n",
        "predicted_words=[]\n",
        "for index,idx in enumerate(y.flatten()):\n",
        "  # to display only the masked tokens\n",
        "  if idx != -100:\n",
        "    masked_words.append(v.vocab.get_itos()[idx.item()])\n",
        "    predicted_words.append(v.vocab.get_itos()[predictions.flatten()[index].item()])\n",
        "print('Masked Words: ')\n",
        "print(' '.join(masked_words))\n",
        "print('Predicted Words: ')\n",
        "print(' '.join(predicted_words))"
      ],
      "metadata": {
        "colab": {
          "base_uri": "https://localhost:8080/"
        },
        "id": "90vsv_m8J57q",
        "outputId": "6a1c508a-3729-44bd-cb33-c57caed974f5"
      },
      "execution_count": 22,
      "outputs": [
        {
          "output_type": "stream",
          "name": "stdout",
          "text": [
            "Masked Words: \n",
            "known , he true his skills the benefits received to a . there articles about known and leave one is a reveal the succeeding and this version with events and those years uncovered , events hamming discovered information , personal me legacy . many continue to\n",
            "Predicted Words: \n",
            "known , he true his skills the benefits received to a . there articles about known and leave one is a reveal the succeeding and this version with events and those years uncovered , events hamming discovered information , personal me legacy . many continue to\n"
          ]
        }
      ]
    },
    {
      "cell_type": "code",
      "source": [],
      "metadata": {
        "id": "iUIaODYLrATi"
      },
      "execution_count": null,
      "outputs": []
    }
  ]
}